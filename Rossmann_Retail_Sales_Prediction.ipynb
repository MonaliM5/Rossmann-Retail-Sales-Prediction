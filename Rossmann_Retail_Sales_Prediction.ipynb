{
  "nbformat": 4,
  "nbformat_minor": 0,
  "metadata": {
    "colab": {
      "private_outputs": true,
      "provenance": [],
      "collapsed_sections": [
        "bfGiuKi-ru8n",
        "vncDsAP0Gaoa",
        "FJNUwmbgGyua",
        "w6K7xa23Elo4",
        "yQaldy8SH6Dl",
        "mDgbUHAGgjLW",
        "HhfV-JJviCcP",
        "Y3lxredqlCYt",
        "3RnN4peoiCZX",
        "x71ZqKXriCWQ",
        "7hBIi_osiCS2",
        "JlHwYmJAmNHm",
        "35m5QtbWiB9F",
        "PoPl-ycgm1ru",
        "H0kj-8xxnORC",
        "u3PMJOP6ngxN",
        "MSa1f5Uengrz",
        "0wOQAZs5pc--",
        "K5QZ13OEpz2H",
        "lQ7QKXXCp7Bj",
        "448CDAPjqfQr",
        "KSlN3yHqYklG",
        "EM7whBJCYoAo",
        "fge-S5ZAYoAp",
        "85gYPyotYoAp",
        "RoGjAbkUYoAp",
        "4Of9eVA-YrdM",
        "iky9q4vBYrdO",
        "F6T5p64dYrdO",
        "y-Ehk30pYrdP",
        "bamQiAODYuh1",
        "QHF8YVU7Yuh3",
        "GwzvFGzlYuh3",
        "qYpmQ266Yuh3",
        "OH-pJp9IphqM",
        "bbFf2-_FphqN",
        "_ouA3fa0phqN",
        "Seke61FWphqN",
        "PIIx-8_IphqN",
        "t27r6nlMphqO",
        "r2jJGEOYphqO",
        "b0JNsNcRphqO",
        "BZR9WyysphqO",
        "jj7wYXLtphqO",
        "eZrbJ2SmphqO",
        "rFu4xreNphqO",
        "YJ55k-q6phqO",
        "U2RJ9gkRphqQ",
        "1M8mcRywphqQ",
        "tgIPom80phqQ",
        "JMzcOPDDphqR",
        "x-EpHcCOp1ci",
        "X_VqEhTip1ck",
        "8zGJKyg5p1ck",
        "PVzmfK_Ep1ck",
        "n3dbpmDWp1ck",
        "ylSl6qgtp1ck",
        "ZWILFDl5p1ck",
        "M7G43BXep1ck",
        "E6MkPsBcp1cl",
        "2cELzS2fp1cl",
        "NC_X3p0fY2L0",
        "UV0SzAkaZNRQ",
        "YPEH6qLeZNRQ",
        "q29F0dvdveiT",
        "EXh0U9oCveiU",
        "22aHeOlLveiV",
        "g-ATYxFrGrvw",
        "Yfr_Vlr8HBkt",
        "8yEUt7NnHlrM",
        "tEA2Xm5dHt1r",
        "I79__PHVH19G",
        "Ou-I18pAyIpj",
        "fF3858GYyt-u",
        "4_0_7-oCpUZd",
        "hwyV_J3ipUZe",
        "3yB-zSqbpUZe",
        "dEUvejAfpUZe",
        "Fd15vwWVpUZf",
        "bn_IUdTipZyH",
        "49K5P_iCpZyH",
        "Nff-vKELpZyI",
        "kLW572S8pZyI",
        "dWbDXHzopZyI",
        "yLjJCtPM0KBk",
        "xiyOF9F70UgQ",
        "7wuGOrhz0itI",
        "id1riN9m0vUs",
        "578E2V7j08f6",
        "89xtkJwZ18nB",
        "67NQN5KX2AMe",
        "Iwf50b-R2tYG",
        "GMQiZwjn3iu7",
        "WVIkgGqN3qsr",
        "XkPnILGE3zoT",
        "Hlsf0x5436Go",
        "mT9DMSJo4nBL",
        "c49ITxTc407N",
        "OeJFEK0N496M",
        "9ExmJH0g5HBk",
        "cJNqERVU536h",
        "k5UmGsbsOxih",
        "T0VqWOYE6DLQ",
        "qBMux9mC6MCf",
        "-oLEiFgy-5Pf",
        "C74aWNz2AliB",
        "2DejudWSA-a0",
        "pEMng2IbBLp7",
        "rAdphbQ9Bhjc",
        "TNVZ9zx19K6k",
        "nqoHp30x9hH9",
        "rMDnDkt2B6du",
        "yiiVWRdJDDil",
        "1UUpS68QDMuG",
        "kexQrXU-DjzY",
        "T5CmagL3EC8N",
        "BhH2vgX9EjGr",
        "qjKvONjwE8ra",
        "P1XJ9OREExlT",
        "VFOzZv6IFROw",
        "TIqpNgepFxVj",
        "VfCC591jGiD4",
        "OB4l2ZhMeS1U",
        "ArJBuiUVfxKd",
        "4qY1EAkEfxKe",
        "PiV4Ypx8fxKe",
        "TfvqoZmBfxKf",
        "dJ2tPlVmpsJ0",
        "JWYfwnehpsJ1",
        "-jK_YjpMpsJ2",
        "HAih1iBOpsJ2",
        "zVGeBEFhpsJ2",
        "bmKjuQ-FpsJ3",
        "Fze-IPXLpx6K",
        "7AN1z2sKpx6M",
        "9PIHJqyupx6M",
        "_-qAgymDpx6N",
        "Z-hykwinpx6N",
        "h_CCil-SKHpo",
        "cBFFvTBNJzUa",
        "HvGl1hHyA_VK",
        "EyNgTHvd2WFk",
        "KH5McJBi2d8v",
        "iW_Lq9qf2h6X",
        "-Kee-DAl2viO",
        "gCX9965dhzqZ",
        "gIfDvo9L0UH2"
      ],
      "include_colab_link": true
    },
    "kernelspec": {
      "name": "python3",
      "display_name": "Python 3"
    },
    "language_info": {
      "name": "python"
    }
  },
  "cells": [
    {
      "cell_type": "markdown",
      "metadata": {
        "id": "view-in-github",
        "colab_type": "text"
      },
      "source": [
        "<a href=\"https://colab.research.google.com/github/MonaliM5/rossmann_retail_sales_prediction/blob/main/Rossmann_Retail_Sales_Prediction.ipynb\" target=\"_parent\"><img src=\"https://colab.research.google.com/assets/colab-badge.svg\" alt=\"Open In Colab\"/></a>"
      ]
    },
    {
      "cell_type": "markdown",
      "source": [
        "# **Project Name**    - Rossmann Retail Sales Prediction\n",
        "\n"
      ],
      "metadata": {
        "id": "vncDsAP0Gaoa"
      }
    },
    {
      "cell_type": "markdown",
      "source": [
        "##### **Project Type**    - Regression\n",
        "##### **Contribution**    - Individual\n",
        "##### **Student Name**    - Monali Vijay Mhaske"
      ],
      "metadata": {
        "id": "beRrZCGUAJYm"
      }
    },
    {
      "cell_type": "markdown",
      "source": [
        "# **Project Summary -**"
      ],
      "metadata": {
        "id": "FJNUwmbgGyua"
      }
    },
    {
      "cell_type": "markdown",
      "source": [
        "* Rossmann is a large European drugstore chain operating over 3,000 stores across several countries. The company faces a key business challenge — accurately forecasting daily sales for each store. Reliable sales forecasts are crucial for effective inventory planning, workforce scheduling, and promotional strategy.\n",
        "\n",
        "* This project aims to predict the daily sales of Rossmann stores using historical sales data combined with store-specific information such as promotions, holidays, competition, and assortment types. By developing a predictive model, Rossmann management can make data-driven decisions to optimize operations and improve profitability.\n",
        "\n",
        "* The project will follow a structured data science life-cycle, which includes:\n",
        "\n",
        "  1. Data Understanding - Exploring the historical sales and store datasets to identify patterns, data types, and business drivers.\n",
        "\n",
        "\n",
        "  2. Data Wrangling & Cleaning - Handling missing values, correcting inconsistencies, encoding categorical variables, and preparing data for analysis.\n",
        "\n",
        "\n",
        "  3. Exploratory Data Analysis (EDA) - Performing univariate, bivariate, and multivariate analysis to uncover relationships between features such as promotions, holidays, and sales trends.\n",
        "\n",
        "\n",
        "  4. Feature Engineering - Creating new features like competition duration, promo activity flags, and temporal variables (month, week, weekday) to enhance model performance.\n",
        "\n",
        "\n",
        "  5. Model Development & Evaluation - Building regression-based machine learning models (e.g., Linear Regression, Random Forest, XGBoost) to predict sales. Model performance will be evaluated primarily using Root Mean Squared Logarithmic Error (RMSLE), a suitable metric for skewed sales data.\n",
        "\n",
        "\n",
        "  6. Model Interpretation & Business Insights - Interpreting the model results to generate actionable insights, such as how promotions or competition impact sales, and providing recommendations to management.\n",
        "\n",
        "\n",
        "\n",
        "* The expected outcome of this project is a robust, data-driven forecasting model that can accurately estimate future store sales and highlight key factors influencing them. This will help Rossmann:\n",
        "\n",
        "    * Ensure better inventory and staff management,\n",
        "\n",
        "    * Improve promotion planning and marketing effectiveness, and\n",
        "\n",
        "    * Ultimately increase overall profitability."
      ],
      "metadata": {
        "id": "F6v_1wHtG2nS"
      }
    },
    {
      "cell_type": "markdown",
      "source": [
        "# **GitHub Link -**"
      ],
      "metadata": {
        "id": "w6K7xa23Elo4"
      }
    },
    {
      "cell_type": "markdown",
      "source": [
        "https://github.com/MonaliM5/rossmann_retail_sales_prediction"
      ],
      "metadata": {
        "id": "h1o69JH3Eqqn"
      }
    },
    {
      "cell_type": "markdown",
      "source": [
        "# **Problem Statement**\n"
      ],
      "metadata": {
        "id": "yQaldy8SH6Dl"
      }
    },
    {
      "cell_type": "markdown",
      "source": [
        "* In the retail industry, accurate sales forecasting is critical for effective decision-making. Retailers like Rossmann, one of Europe's largest drugstore chains, must regularly decide how much stock to order, how to schedule employees, and how to plan promotional campaigns - all of which depend heavily on anticipated sales.\n",
        "\n",
        "* However, predicting store-level daily sales is challenging because it is influenced by multiple dynamic factors such as store location, promotions, holidays, competition, and seasonality. An incorrect forecast can lead to overstocking or understocking, resulting in financial losses and poor customer experience.\n",
        "\n",
        "* The primary objective of this project is to develop a predictive model capable of accurately estimating daily sales for each Rossmann store using historical sales and store information. The model should capture the impact of various external and internal factors - including promotions, holidays, competition distance, assortment type, and time-related variables - on store performance.\n",
        "\n",
        "* The predictive insights from this project will enable Rossmann's management to:\n",
        "\n",
        "  * Optimize inventory and staffing levels,\n",
        "\n",
        "  * Plan promotional activities more effectively,\n",
        "\n",
        "  * Improve supply chain efficiency, and\n",
        "\n",
        "  * Enhance overall business profitability.\n",
        "\n",
        "\n",
        "* The project will apply systematic data analysis and machine learning techniques to derive actionable insights that directly support Rossmann's strategic and operational decisions."
      ],
      "metadata": {
        "id": "DpeJGUA3kjGy"
      }
    },
    {
      "cell_type": "markdown",
      "source": [
        "# **General Guidelines** : -  "
      ],
      "metadata": {
        "id": "mDgbUHAGgjLW"
      }
    },
    {
      "cell_type": "markdown",
      "source": [
        "1.   Well-structured, formatted, and commented code is required.\n",
        "2.   Exception Handling, Production Grade Code & Deployment Ready Code will be a plus. Those students will be awarded some additional credits.\n",
        "     \n",
        "     The additional credits will have advantages over other students during Star Student selection.\n",
        "       \n",
        "             [ Note: - Deployment Ready Code is defined as, the whole .ipynb notebook should be executable in one go\n",
        "                       without a single error logged. ]\n",
        "\n",
        "3.   Each and every logic should have proper comments.\n",
        "4. You may add as many number of charts you want. Make Sure for each and every chart the following format should be answered.\n",
        "        \n",
        "\n",
        "```\n",
        "# Chart visualization code\n",
        "```\n",
        "            \n",
        "\n",
        "*   Why did you pick the specific chart?\n",
        "*   What is/are the insight(s) found from the chart?\n",
        "* Will the gained insights help creating a positive business impact?\n",
        "Are there any insights that lead to negative growth? Justify with specific reason.\n",
        "\n",
        "5. You have to create at least 15 logical & meaningful charts having important insights.\n",
        "\n",
        "\n",
        "[ Hints : - Do the Vizualization in  a structured way while following \"UBM\" Rule.\n",
        "\n",
        "U - Univariate Analysis,\n",
        "\n",
        "B - Bivariate Analysis (Numerical - Categorical, Numerical - Numerical, Categorical - Categorical)\n",
        "\n",
        "M - Multivariate Analysis\n",
        " ]\n",
        "\n",
        "\n",
        "\n",
        "\n",
        "\n",
        "6. You may add more ml algorithms for model creation. Make sure for each and every algorithm, the following format should be answered.\n",
        "\n",
        "\n",
        "*   Explain the ML Model used and it's performance using Evaluation metric Score Chart.\n",
        "\n",
        "\n",
        "*   Cross- Validation & Hyperparameter Tuning\n",
        "\n",
        "*   Have you seen any improvement? Note down the improvement with updates Evaluation metric Score Chart.\n",
        "\n",
        "*   Explain each evaluation metric's indication towards business and the business impact pf the ML model used."
      ],
      "metadata": {
        "id": "ZrxVaUj-hHfC"
      }
    },
    {
      "cell_type": "markdown",
      "source": [
        "# ***Let's Begin !***"
      ],
      "metadata": {
        "id": "O_i_v8NEhb9l"
      }
    },
    {
      "cell_type": "markdown",
      "source": [
        "## ***1. Know Your Data***"
      ],
      "metadata": {
        "id": "HhfV-JJviCcP"
      }
    },
    {
      "cell_type": "markdown",
      "source": [
        "### Import Libraries"
      ],
      "metadata": {
        "id": "Y3lxredqlCYt"
      }
    },
    {
      "cell_type": "code",
      "source": [
        "# Import Libraries\n",
        "\n",
        "# Data manipulation and analysis\n",
        "import numpy as np\n",
        "import pandas as pd\n",
        "\n",
        "# Data visualization\n",
        "import matplotlib.pyplot as plt\n",
        "import seaborn as sns\n",
        "\n",
        "# Machine learning and preprocessing\n",
        "from sklearn.model_selection import train_test_split, GridSearchCV, cross_val_score\n",
        "from sklearn.preprocessing import LabelEncoder, StandardScaler\n",
        "from sklearn.metrics import mean_squared_error, r2_score\n",
        "\n",
        "# System and warnings\n",
        "import warnings\n",
        "warnings.filterwarnings('ignore')\n",
        "\n",
        "# Display settings\n",
        "pd.set_option('display.max_columns', None)\n",
        "plt.style.use('seaborn-v0_8-whitegrid')"
      ],
      "metadata": {
        "id": "M8Vqi-pPk-HR"
      },
      "execution_count": null,
      "outputs": []
    },
    {
      "cell_type": "markdown",
      "source": [
        "### Dataset Loading"
      ],
      "metadata": {
        "id": "3RnN4peoiCZX"
      }
    },
    {
      "cell_type": "code",
      "source": [
        "# Mounting Google Drive\n",
        "\n",
        "from google.colab import drive\n",
        "drive.mount('/content/drive')"
      ],
      "metadata": {
        "id": "0oOXUgDGdV8K"
      },
      "execution_count": null,
      "outputs": []
    },
    {
      "cell_type": "code",
      "source": [
        "# Load Dataset\n",
        "Sales_df = pd.read_csv(\"/content/drive/MyDrive/Colab Notebooks/Capstone Project 2 - Regression Project/Rossmann Stores Data.csv\", parse_dates=['Date'])\n",
        "Store_df = pd.read_csv(\"/content/drive/MyDrive/Colab Notebooks/Capstone Project 2 - Regression Project/store.csv\")"
      ],
      "metadata": {
        "id": "4CkvbW_SlZ_R"
      },
      "execution_count": null,
      "outputs": []
    },
    {
      "cell_type": "markdown",
      "source": [
        "### Dataset First View"
      ],
      "metadata": {
        "id": "x71ZqKXriCWQ"
      }
    },
    {
      "cell_type": "code",
      "source": [
        "# Sales Dataset First Look\n",
        "print(\"Sales Data First View \")\n",
        "Sales_df.head()"
      ],
      "metadata": {
        "id": "LWNFOSvLl09H"
      },
      "execution_count": null,
      "outputs": []
    },
    {
      "cell_type": "code",
      "source": [
        "# Store Dataset First Look\n",
        "print(\"Store Data First View \")\n",
        "Store_df.head()"
      ],
      "metadata": {
        "id": "ZAfyBjBcZB82"
      },
      "execution_count": null,
      "outputs": []
    },
    {
      "cell_type": "markdown",
      "source": [
        "### Dataset Rows & Columns count"
      ],
      "metadata": {
        "id": "7hBIi_osiCS2"
      }
    },
    {
      "cell_type": "code",
      "source": [
        "# Dataset Rows & Columns count\n",
        "print(f\"Sales Dataset -\\n Rows Count : {Sales_df.shape[0]}  \\tColumns Count : {Sales_df.shape[1]}\")\n",
        "print(f\"Store Dataset -\\n Rows Count : {Store_df.shape[0]}  \\tColumns Count : {Store_df.shape[1]}\")"
      ],
      "metadata": {
        "id": "Kllu7SJgmLij"
      },
      "execution_count": null,
      "outputs": []
    },
    {
      "cell_type": "markdown",
      "source": [
        "### Dataset Information"
      ],
      "metadata": {
        "id": "JlHwYmJAmNHm"
      }
    },
    {
      "cell_type": "code",
      "source": [
        "# Dataset Information\n",
        "\n",
        "# Sales dataset info\n",
        "print(\"Sales Data Information:\")\n",
        "Sales_df.info()\n",
        "print(\"\\n\" + \"=\"*60 + \"\\n\")\n",
        "\n",
        "# Store dataset info\n",
        "print(\"Store Data Information:\")\n",
        "Store_df.info()"
      ],
      "metadata": {
        "id": "e9hRXRi6meOf"
      },
      "execution_count": null,
      "outputs": []
    },
    {
      "cell_type": "markdown",
      "source": [
        "#### Duplicate Values"
      ],
      "metadata": {
        "id": "35m5QtbWiB9F"
      }
    },
    {
      "cell_type": "code",
      "source": [
        "# Dataset Duplicate Value Count\n",
        "\n",
        "# Sales dataset duplicates\n",
        "print(f\"Sales Dataset → Duplicate rows: {Sales_df.duplicated().sum()}\")\n",
        "\n",
        "if Sales_df.duplicated().sum() > 0:\n",
        "    print(\"\\nSample duplicate rows from Sales_df:\")\n",
        "    display(Sales_df[Sales_df.duplicated()].head())\n",
        "\n",
        "print(\"\\n\" + \"-\"*60 + \"\\n\")\n",
        "\n",
        "# Store dataset duplicates\n",
        "print(f\"Store Dataset → Duplicate rows: {Store_df.duplicated().sum()}\")\n",
        "\n",
        "if Store_df.duplicated().sum() > 0:\n",
        "    print(\"\\nSample duplicate rows from Store_df:\")\n",
        "    display(Store_df[Store_df.duplicated()].head())"
      ],
      "metadata": {
        "id": "1sLdpKYkmox0"
      },
      "execution_count": null,
      "outputs": []
    },
    {
      "cell_type": "markdown",
      "source": [
        "#### Missing Values/Null Values"
      ],
      "metadata": {
        "id": "PoPl-ycgm1ru"
      }
    },
    {
      "cell_type": "code",
      "source": [
        "# Missing Values/Null Values Count\n",
        "\n",
        "# Sales dataset nulls\n",
        "print(\"Sales Dataset - Missing Values:\\n\")\n",
        "print(Sales_df.isnull().sum())\n",
        "print(\"\\n\" + \"-\"*60 + \"\\n\")\n",
        "\n",
        "# Store dataset nulls\n",
        "print(\"Store Dataset - Missing Values:\\n\")\n",
        "print(Store_df.isnull().sum())"
      ],
      "metadata": {
        "id": "GgHWkxvamxVg"
      },
      "execution_count": null,
      "outputs": []
    },
    {
      "cell_type": "code",
      "source": [
        "# Visualizing the missing values\n",
        "\n",
        "import missingno as msno\n",
        "\n",
        "# Set up plot style\n",
        "plt.style.use('seaborn-v0_8-whitegrid')\n",
        "\n",
        "# Sales dataset missing values visualization\n",
        "print(\"Sales Dataset - Missing Values Visualization:\\n\")\n",
        "msno.matrix(Sales_df)\n",
        "plt.title(\"Sales Dataset - Missing Values Overview\")\n",
        "plt.show()\n",
        "\n",
        "# Store dataset missing values visualization\n",
        "print(\"Store Dataset - Missing Values Visualization:\\n\")\n",
        "msno.matrix(Store_df)\n",
        "plt.title(\"Store Dataset - Missing Values Overview\")\n",
        "plt.show()"
      ],
      "metadata": {
        "id": "3q5wnI3om9sJ"
      },
      "execution_count": null,
      "outputs": []
    },
    {
      "cell_type": "markdown",
      "source": [
        "### What did you know about your dataset?"
      ],
      "metadata": {
        "id": "H0kj-8xxnORC"
      }
    },
    {
      "cell_type": "markdown",
      "source": [
        "* The Rossmann dataset consists of two main files - Sales data and Store data - that together provide a comprehensive view of the company's retail operations.\n",
        "\n",
        "1. Sales Data (Sales_df)\n",
        "\n",
        "    * This dataset contains daily sales records for each Rossmann store.\n",
        "\n",
        "    * Each record includes store ID, sales amount, number of customers, whether the store was open, ongoing promotions, state and school holidays, and the corresponding date.\n",
        "\n",
        "    * These variables help capture short-term and seasonal trends, customer behavior, and the influence of holidays or promotions on sales.\n",
        "\n",
        "\n",
        "\n",
        "2. Store Data (Store_df)\n",
        "\n",
        "    * This dataset provides static information about each store, such as store type, assortment level, distance to the nearest competitor, duration since the nearest competition opened, and promotional program details (e.g., whether the store runs continuous promotions).\n",
        "\n",
        "    * These variables explain store-level differences that affect long-term sales patterns.\n",
        "\n",
        "\n",
        "\n",
        "* By combining these two datasets, we obtain both temporal (daily) and structural (store-level) information. This enables a deeper understanding of how different factors — such as competition, promotions, holidays, and assortment — influence store performance.\n",
        "Such insights form the foundation for building a reliable predictive model to forecast future sales."
      ],
      "metadata": {
        "id": "gfoNAAC-nUe_"
      }
    },
    {
      "cell_type": "markdown",
      "source": [
        "## ***2. Understanding Your Variables***"
      ],
      "metadata": {
        "id": "nA9Y7ga8ng1Z"
      }
    },
    {
      "cell_type": "code",
      "source": [
        "# Dataset Columns\n",
        "\n",
        "# Printing list of columns in Sales Dataset\n",
        "print(\"Columns in Sales Dataset:\\n\")\n",
        "print(Sales_df.columns.tolist())\n",
        "\n",
        "print(\"\\n\" + \"-\"*60 + \"\\n\")\n",
        "\n",
        "#Printing list of columns in Store Dataset\n",
        "print(\"Columns in Store Dataset:\\n\")\n",
        "print(Store_df.columns.tolist())"
      ],
      "metadata": {
        "id": "j7xfkqrt5Ag5"
      },
      "execution_count": null,
      "outputs": []
    },
    {
      "cell_type": "code",
      "source": [
        "# Dataset Describe\n",
        "\n",
        "# Describing the Sales Dataset\n",
        "print(\" Sales Data Description : \\n\")\n",
        "display(Sales_df.describe())\n",
        "\n",
        "print(\"\\n\" + \"-\"*60 + \"\\n\")\n",
        "\n",
        "# Describing the Store Dataset\n",
        "print(\" Store Data Description :\\n \")\n",
        "display(Store_df.describe())"
      ],
      "metadata": {
        "id": "DnOaZdaE5Q5t"
      },
      "execution_count": null,
      "outputs": []
    },
    {
      "cell_type": "markdown",
      "source": [
        "### Variables Description"
      ],
      "metadata": {
        "id": "PBTbrJXOngz2"
      }
    },
    {
      "cell_type": "markdown",
      "source": [
        "📘 Sales Dataset (Sales_df) :\n",
        "\n",
        "\n",
        "|Variable|Description|\n",
        "|---|---|\n",
        "|Store|Unique identifier for each store.|\n",
        "|DayOfWeek|  Day of the week (1 = Monday, 7 = Sunday).|\n",
        "|Date| Date of the record.|\n",
        "|Sales|\tTotal sales made on that day — this is the target variable.|\n",
        "|Customers|\tNumber of customers who visited the store on that day.|\n",
        "|Open|\tIndicates whether the store was open (1) or closed (0).|\n",
        "|Promo|\tIndicates if a promotion was running on that day (1 = Yes, 0 = No).|\n",
        "|StateHoliday|\tDenotes whether the day was a state/national/public holiday.|\n",
        "|SchoolHoliday|\tIndicates if the store was affected by public-school closures.|\n",
        "\n",
        "\n",
        "\n",
        "---\n",
        "\n",
        "🏪 Store Dataset (Store_df)\n",
        "\n",
        "|Variable\t|Description|\n",
        "|---|---|\n",
        "|Store|\tUnique identifier for each store (key to merge with Sales_df).|\n",
        "|StoreType|\tType of store (a, b, c, d) — represents different business formats.|\n",
        "|Assortment|\tLevel of product assortment (a = basic, b = extra, c = extended).|\n",
        "|CompetitionDistance|\tDistance to the nearest competitor (in meters).|\n",
        "|CompetitionOpenSinceMonth|\tMonth when the nearest competitor opened.|\n",
        "|CompetitionOpenSinceYear|\tYear when the nearest competitor opened.|\n",
        "|Promo2|\tIndicates whether the store participates in a continuing promotion (1 = Yes, 0 = No).|\n",
        "|Promo2SinceWeek|\tWeek when the store began participating in Promo2.|\n",
        "|Promo2SinceYear|\tYear when the store began participating in Promo2.|\n",
        "|PromoInterval|\tMonths when Promo2 is active (e.g., Jan, Apr, Jul, Oct).|\n",
        "\n",
        "\n",
        "\n",
        "---\n",
        "\n",
        "💡 Insights\n",
        "\n",
        "* Sales_df provides time-based transactional information.\n",
        "\n",
        "* Store_df adds store-level context such as competition and promotions.\n",
        "\n",
        "* Together, these datasets form a powerful base to analyze sales drivers and build a predictive regression model for accurate forecasting."
      ],
      "metadata": {
        "id": "aJV4KIxSnxay"
      }
    },
    {
      "cell_type": "markdown",
      "source": [
        "### Check Unique Values for each variable."
      ],
      "metadata": {
        "id": "u3PMJOP6ngxN"
      }
    },
    {
      "cell_type": "code",
      "source": [
        "# Check Unique Values for each variable.\n",
        "\n",
        "# Fetching and printing number of unique values in each column of Sales Dataset.\n",
        "print(\"Unique values in Sales Dataset : \\n\")\n",
        "for col in Sales_df.columns :\n",
        "  unique_count = Sales_df[col].nunique()\n",
        "  # Fetched total number of unique values\n",
        "  print(f\"{col} : {unique_count} unique values\")\n",
        "  print(Sales_df[col].unique())\n",
        "  # Printing all those unique values of each column\n",
        "  print(\"\\n\")\n",
        "\n",
        "print(\"\\n\" + \"-\"*60 + \"\\n\")\n",
        "\n",
        "# Fetching and printing number of unique values in each column of Store Dataset.\n",
        "print(\"Unique values in Store Dataset : \\n\")\n",
        "\n",
        "for col in Store_df.columns :\n",
        "  unique_count = Store_df[col].nunique()\n",
        "  # Fetched total number of unique values.\n",
        "\n",
        "  print(f\"{col} : {unique_count} unique values\")\n",
        "  print(Store_df[col].unique())\n",
        "  # Printing all those unique values of each column\n",
        "\n",
        "  print(\"\\n\")"
      ],
      "metadata": {
        "id": "zms12Yq5n-jE"
      },
      "execution_count": null,
      "outputs": []
    },
    {
      "cell_type": "markdown",
      "source": [
        "## ***3. Data Wrangling***"
      ],
      "metadata": {
        "id": "dauF4eBmngu3"
      }
    },
    {
      "cell_type": "markdown",
      "source": [
        "### Data Wrangling Code"
      ],
      "metadata": {
        "id": "bKJF3rekwFvQ"
      }
    },
    {
      "cell_type": "code",
      "source": [
        "# Write your code to make your dataset analysis ready.\n",
        "\n",
        "\n",
        "# -----------------------------\n",
        "# 🧹 DATA WRANGLING\n",
        "# -----------------------------\n",
        "\n",
        "\n",
        "# Making a copy of datasets to preserve raw data\n",
        "sales_df = Sales_df.copy()\n",
        "store_df = Store_df.copy()\n",
        "\n",
        "\n",
        "# -----------------------------\n",
        "# STEP 1: MERGING BOTH DATASETS\n",
        "# -----------------------------\n",
        "# Merging on 'Store' column (common key)\n",
        "df = pd.merge(sales_df, store_df, on = \"Store\", how = \"left\")\n",
        "\n",
        "\n",
        "\n",
        "# -----------------------------\n",
        "# STEP 2 : Handle unrealistic values\n",
        "# ----------------------------\n",
        "# Handling only clearly unrealistic years (<1970)\n",
        "df.loc[df['CompetitionOpenSinceYear'] < 1970, 'CompetitionOpenSinceYear'] = np.nan\n",
        "\n",
        "\n",
        "# -----------------------------\n",
        "# STEP 3: Missing-value indicator flags\n",
        "# -----------------------------\n",
        "\n",
        "# Creating missing-value indicator flags\n",
        "df['CompetitionDistance_NA'] = df['CompetitionDistance'].isna().astype(int)\n",
        "df['CompetitionOpenSince_NA'] = df[['CompetitionOpenSinceMonth', 'CompetitionOpenSinceYear']].isna().any(axis=1).astype(int)\n",
        "df['Promo2Since_NA'] = df[['Promo2SinceWeek', 'Promo2SinceYear']].isna().any(axis=1).astype(int)\n",
        "\n",
        "\n",
        "# -----------------------------\n",
        "# STEP 3 : Handle missing values\n",
        "# -----------------------------\n",
        "\n",
        "# Imputed missing values logically\n",
        "df['CompetitionDistance'].fillna(df['CompetitionDistance'].median(), inplace=True)\n",
        "df['CompetitionOpenSinceMonth'].fillna(0, inplace=True)\n",
        "df['CompetitionOpenSinceYear'].fillna(0, inplace=True)\n",
        "df['Promo2SinceWeek'].fillna(0, inplace=True)\n",
        "df['Promo2SinceYear'].fillna(0, inplace=True)\n",
        "df['PromoInterval'].fillna('None', inplace=True)\n",
        "\n",
        "\n",
        "# -----------------------------\n",
        "# STEP 4 : Feature extraction from date\n",
        "# -----------------------------\n",
        "df['Year'] = df['Date'].dt.year\n",
        "df['Month'] = df['Date'].dt.month\n",
        "df['Day'] = df['Date'].dt.day\n",
        "df['WeekOfYear'] = df['Date'].dt.isocalendar().week.astype(int)\n",
        "df['DayOfWeek'] = df['Date'].dt.dayofweek + 1   # 1=Monday, 7=Sunday\n",
        "\n",
        "\n",
        "# -----------------------------\n",
        "# STEP 5 : Competition open duration\n",
        "# -----------------------------\n",
        "# Calculating competition open months only for non-missing cases\n",
        "df['CompetitionOpenMonths'] = np.where(\n",
        "    df['CompetitionOpenSince_NA'],\n",
        "    0,  # Set to 0 if missing\n",
        "    ((df['Year'] - df['CompetitionOpenSinceYear']) * 12 +\n",
        "     (df['Month'] - df['CompetitionOpenSinceMonth']))\n",
        ")\n",
        "\n",
        "# Replacing negative values (for stores opened later) with 0\n",
        "df['CompetitionOpenMonths'] = df['CompetitionOpenMonths'].apply(lambda x: x if x > 0 else 0)\n",
        "\n",
        "\n",
        "# -----------------------------\n",
        "# STEP 5 : Fixing data type issues\n",
        "# -----------------------------\n",
        "df['StateHoliday'] = df['StateHoliday'].astype(str).replace({'0': 'None'})\n",
        "df['StoreType'] = df['StoreType'].astype('category')\n",
        "df['Assortment'] = df['Assortment'].astype('category')\n",
        "df['PromoInterval'] = df['PromoInterval'].astype('category')\n",
        "\n",
        "\n",
        "# -----------------------------\n",
        "# STEP 6 : Promo2 active (vectorized)\n",
        "# -----------------------------\n",
        "month_map = {'Jan':1, 'Feb':2, 'Mar':3, 'Apr':4, 'May':5, 'Jun':6,\n",
        "             'Jul':7, 'Aug':8, 'Sept':9, 'Oct':10, 'Nov':11, 'Dec':12}\n",
        "\n",
        "# Convert to string before applying function to avoid 'unhashable list' error\n",
        "df['PromoMonths'] = df['PromoInterval'].astype(str).apply(\n",
        "    lambda x: [month_map[m] for m in x.split(',')] if x != 'None' else []\n",
        ")\n",
        "\n",
        "df['IsPromo2Active'] = df.apply(\n",
        "    lambda row: 1 if (row['Promo2'] == 1 and row['Month'] in row['PromoMonths']) else 0, axis=1\n",
        ")\n",
        "\n",
        "\n",
        "\n",
        "# -----------------------------\n",
        "# STEP 7 : Business logic flags\n",
        "# -----------------------------\n",
        "df['IsOpen'] = df['Open'].fillna(1).astype(int)\n",
        "df.drop(columns = ['Open'], inplace = True)\n",
        "df['SalesPerCustomer'] = np.where(df['Customers'] > 0, df['Sales'] / df['Customers'], 0)\n",
        "df['ZeroSalesWhileOpen'] = ((df['Sales'] == 0) & (df['IsOpen'] == 1)).astype(int)\n",
        "\n",
        "\n",
        "\n",
        "# -----------------------------\n",
        "# STEP 8 : Handle outliers\n",
        "# -----------------------------\n",
        "# Cap competition distance at 99th percentile\n",
        "cap_value = df['CompetitionDistance'].quantile(0.99)\n",
        "df.loc[df['CompetitionDistance'] > cap_value, 'CompetitionDistance'] = cap_value\n",
        "\n",
        "\n",
        "\n",
        "\n",
        "# -----------------------------\n",
        "# STEP 9 : Final formatting\n",
        "# -----------------------------\n",
        "# Drop temporary helper columns\n",
        "df.drop(columns=['PromoMonths'], inplace=True)\n",
        "\n",
        "# Reset index and sort\n",
        "df.sort_values(['Store', 'Date'], inplace=True)\n",
        "df.reset_index(drop=True, inplace=True)\n",
        "\n",
        "\n",
        "\n",
        "print(\"✅ Data Wrangling Completed Successfully!\")\n",
        "print(f\"Final Dataset Shape: {df.shape}\")\n",
        "print(\"\\nMissing Values After Wrangling:\")\n",
        "print(df.isnull().sum()[df.isnull().sum() > 0])\n",
        "display(df.head(3))"
      ],
      "metadata": {
        "id": "wk-9a2fpoLcV"
      },
      "execution_count": null,
      "outputs": []
    },
    {
      "cell_type": "markdown",
      "source": [
        "### What all manipulations have you done and insights you found?"
      ],
      "metadata": {
        "id": "MSa1f5Uengrz"
      }
    },
    {
      "cell_type": "markdown",
      "source": [
        "* During the data wrangling phase, various preprocessing steps were performed to clean, correct, and enhance the dataset so that it becomes ready for analysis and modeling.\n",
        " * The manipulations focused on merging, handling missing values, creating new features, and ensuring data consistency.\n",
        "\n",
        "---\n",
        "\n",
        "**🔧 Manipulations Performed**\n",
        "\n",
        "\n",
        "\n",
        "1. Merging Datasets:\n",
        "\n",
        "    * The two datasets — Sales_df (daily sales data) and Store_df (store information) — were merged using the common key Store.\n",
        "\n",
        "    * This allowed each sales record to include corresponding store-level attributes such as store type, assortment, and competition details.\n",
        "\n",
        "\n",
        "\n",
        "\n",
        "2. Handling Missing Values:\n",
        "\n",
        "    * Missing values in important columns such as CompetitionDistance, CompetitionOpenSinceMonth/Year, and Promo2SinceWeek/Year were handled logically.\n",
        "\n",
        "    * Median values or zeros were used for imputation where appropriate.\n",
        "\n",
        "    * Additional missing-value indicator columns (e.g., CompetitionDistance_NA, CompetitionOpenSince_NA) were created to preserve information about where data was missing — since missingness itself can sometimes carry predictive significance.\n",
        "\n",
        "\n",
        "\n",
        "3. Data Type Corrections:\n",
        "\n",
        "    * Columns like StateHoliday, StoreType, Assortment, and PromoInterval were converted to categorical data types for better memory efficiency and easier encoding later.\n",
        "\n",
        "\n",
        "\n",
        "4. Date Feature Extraction:\n",
        "\n",
        "    * The Date column was transformed to extract new temporal features such as Year, Month, Day, WeekOfYear, and DayOfWeek.\n",
        "\n",
        "    * These features help capture seasonal and weekly sales patterns.\n",
        "\n",
        "\n",
        "\n",
        "5. Feature Engineering:\n",
        "\n",
        "    * CompetitionOpenMonths: Calculated as the number of months since a competing store opened, clipped at zero for invalid negative values.\n",
        "\n",
        "    * IsPromo2Active: A binary feature created to indicate whether a store's second promotion (Promo2) was active during a given month.\n",
        "\n",
        "    * SalesPerCustomer: Derived by dividing sales by the number of customers to understand average customer spending.\n",
        "\n",
        "    * ZeroSalesWhileOpen: Flag created to identify closed stores and abnormal cases where sales were zero even though the store was open.\n",
        "\n",
        "\n",
        "\n",
        "6. Outlier Treatment:\n",
        "\n",
        "    * Extreme values in CompetitionDistance were capped at the 99th percentile to reduce the influence of outliers on model training.\n",
        "\n",
        "\n",
        "\n",
        "7. Sorting and Indexing:\n",
        "\n",
        "    * The dataset was sorted by Store and Date to maintain chronological order and reset the index for consistency.\n",
        "\n",
        "\n",
        "---\n",
        "\n",
        "\n",
        "💡 Insights Found After Data Wrangling\n",
        "\n",
        "1. Some stores had missing competition data, indicating that either competition details were not recorded or not applicable — this might correlate with isolated or newer stores.\n",
        "\n",
        "2. Certain stores had longer competition durations, which could influence their sales stability.\n",
        "\n",
        "3. The number of active promotions (Promo2) varied across months, suggesting seasonal marketing strategies.\n",
        "\n",
        "4. Many records showed Sales = 0 when stores were closed, confirming the business rule that closed stores do not generate revenue.\n",
        "\n",
        "5. The derived feature SalesPerCustomer revealed that some stores have higher customer spending patterns, likely influenced by assortment or store type.\n",
        "\n",
        "\n",
        "\n",
        "---\n",
        "\n",
        "\n",
        "✅ Outcome\n",
        "\n",
        "* After data wrangling, the dataset became clean, consistent, and analysis-ready.\n",
        "\n",
        "* All missing values were addressed, data types corrected, new features engineered, and outliers treated — providing a solid foundation for further Exploratory Data Analysis (EDA) and model building.\n"
      ],
      "metadata": {
        "id": "LbyXE7I1olp8"
      }
    },
    {
      "cell_type": "markdown",
      "source": [
        "## ***4. Data Vizualization, Storytelling & Experimenting with charts : Understand the relationships between variables***"
      ],
      "metadata": {
        "id": "GF8Ens_Soomf"
      }
    },
    {
      "cell_type": "markdown",
      "source": [
        "### **Univariate Analysis**"
      ],
      "metadata": {
        "id": "nfU2WKglODNH"
      }
    },
    {
      "cell_type": "markdown",
      "source": [
        "#### Chart 1 - Distribution of Daily Sales"
      ],
      "metadata": {
        "id": "0wOQAZs5pc--"
      }
    },
    {
      "cell_type": "code",
      "source": [
        "# Chart - 1 visualization code\n",
        "\n",
        "# Features Used - Sales\n",
        "\n",
        "# ✅ Why this chart is important to include ?\n",
        "# The entire project aims to predict daily Sales - it’s the dependent variable.\n",
        "# Before building any model, we must understand how this variable behaves.\n",
        "# Without this chart, we wouldn’t know if the data is balanced, skewed, or has extreme outliers.\n",
        "\n",
        "#----------------------------------------------------------------------------------------------------------#\n",
        "\n",
        "# Setting plot style for cleaner aesthetics\n",
        "sns.set(style='whitegrid')\n",
        "\n",
        "\n",
        "# Creating the figure\n",
        "plt.figure(figsize=(10,6))\n",
        "\n",
        "# Plotting histogram with KDE curve for smooth density visualization\n",
        "sns.histplot(\n",
        "    data=df,\n",
        "    x='Sales',\n",
        "    bins=50,                 # Number of bars\n",
        "    kde=True,                # Add smooth density curve\n",
        "    color='royalblue',       # Chart color\n",
        "    alpha=0.7                # Transparency\n",
        ")\n",
        "\n",
        "# Adding titles and labels\n",
        "plt.title('Distribution of Daily Sales', fontsize=16, fontweight='bold', color='black')\n",
        "plt.xlabel('Sales Amount', fontsize=12)\n",
        "plt.ylabel('Number of Records', fontsize=12)\n",
        "\n",
        "# Customizing gridlines and frame\n",
        "plt.grid(axis='y', linestyle='--', alpha=0.7)\n",
        "plt.box(False)  # Removes top and right border for a cleaner look\n",
        "\n",
        "# Displaying the plot\n",
        "plt.show()"
      ],
      "metadata": {
        "id": "7v_ESjsspbW7"
      },
      "execution_count": null,
      "outputs": []
    },
    {
      "cell_type": "markdown",
      "source": [
        "##### 1. Why did you pick the specific chart?"
      ],
      "metadata": {
        "id": "K5QZ13OEpz2H"
      }
    },
    {
      "cell_type": "markdown",
      "source": [
        "* I selected a histogram with a KDE (Kernel Density Estimate) because it is the most effective visualization for understanding the distribution and spread of a continuous variable like Sales.\n",
        "\n",
        "* It helps identify whether sales are normally distributed, skewed, or have multiple peaks, which is crucial before applying any transformations (like log scaling) or choosing suitable modeling techniques."
      ],
      "metadata": {
        "id": "XESiWehPqBRc"
      }
    },
    {
      "cell_type": "markdown",
      "source": [
        "##### 2. What is/are the insight(s) found from the chart?"
      ],
      "metadata": {
        "id": "lQ7QKXXCp7Bj"
      }
    },
    {
      "cell_type": "markdown",
      "source": [
        "* From the histogram, the sales distribution is highly right-skewed — most daily sales values are clustered toward the lower range, with fewer stores having very high sales days.\n",
        "\n",
        "* This suggests that the dataset has significant variance across stores and days, possibly influenced by promotions, weekends, and holidays."
      ],
      "metadata": {
        "id": "C_j1G7yiqdRP"
      }
    },
    {
      "cell_type": "markdown",
      "source": [
        "##### 3. Will the gained insights help creating a positive business impact?\n",
        "Are there any insights that lead to negative growth? Justify with specific reason."
      ],
      "metadata": {
        "id": "448CDAPjqfQr"
      }
    },
    {
      "cell_type": "markdown",
      "source": [
        "Yes, the insights from this chart can help create a positive business impact.\n",
        "\n",
        "* The distribution shows that most stores record low-to-moderate daily sales, while only a few achieve very high sales figures.\n",
        "\n",
        "* This highlights an opportunity for the company to identify the success factors of those high-performing stores - such as location, promotions, or assortment - and apply similar strategies across other stores to boost overall sales performance.\n",
        "\n",
        "---\n",
        "\n",
        "* On the other hand, the right-skewed nature of the data also points to a potential negative growth concern - it suggests that a large number of stores are underperforming compared to the top ones.\n",
        "\n",
        "* If this imbalance continues, it could indicate inefficient promotional strategies or resource allocation that favor only a few stores.\n",
        "\n",
        "* By analyzing and addressing the reasons behind low sales clusters (e.g., lack of promotions, competition proximity, or smaller assortments), Rossmann can reduce disparities and achieve more consistent sales growth across stores.\n"
      ],
      "metadata": {
        "id": "3cspy4FjqxJW"
      }
    },
    {
      "cell_type": "markdown",
      "source": [
        "#### Chart 2 - Distribution of Customers"
      ],
      "metadata": {
        "id": "KSlN3yHqYklG"
      }
    },
    {
      "cell_type": "code",
      "source": [
        "# Chart - 2 visualization code\n",
        "\n",
        "# Features Used - Customers\n",
        "\n",
        "# Why this chart is important to include ?\n",
        "# The number of Customers visiting each store per day determines the overall sales potential.\n",
        "# Analyzing its distribution helps us:\n",
        "# Understand the footfall variation across stores and days.\n",
        "# Detect outliers (extremely busy or empty days).\n",
        "# Identify whether customer traffic is evenly spread or dominated by a few high-volume stores.\n",
        "# This chart provides crucial insight into customer behavior trends, which can later help the company optimize\n",
        "# store operations, marketing, and staffing.\n",
        "\n",
        "#-----------------------------------------------------------------------------------------------------------------------------------#\n",
        "\n",
        "\n",
        "# Setting the plot style for professional appearance\n",
        "sns.set(style='whitegrid')\n",
        "\n",
        "# Creating the figure and defining its size\n",
        "plt.figure(figsize=(9,5))\n",
        "\n",
        "# Plotting the box plot to analyze the distribution and outliers\n",
        "sns.boxplot(\n",
        "    data=df,\n",
        "    x='Customers',          # Setting the variable to visualize\n",
        "    color='mediumseagreen', # Choosing a calm, professional color\n",
        "    width=0.6,              # Adjusting box width\n",
        "    fliersize=3             # Adjusting outlier marker size\n",
        ")\n",
        "\n",
        "# Adding title and labels\n",
        "plt.title('Box Plot of Daily Customers', fontsize=15, fontweight='bold', color='darkgreen')\n",
        "plt.xlabel('Number of Customers per Day', fontsize=12)\n",
        "\n",
        "# Customizing gridlines for cleaner presentation\n",
        "plt.grid(axis='x', linestyle='--', alpha=0.7)\n",
        "\n",
        "# Removing unnecessary chart borders\n",
        "plt.box(False)\n",
        "\n",
        "# Displaying the plot\n",
        "plt.show()"
      ],
      "metadata": {
        "id": "R4YgtaqtYklH"
      },
      "execution_count": null,
      "outputs": []
    },
    {
      "cell_type": "markdown",
      "source": [
        "##### 1. Why did you pick the specific chart?"
      ],
      "metadata": {
        "id": "t6dVpIINYklI"
      }
    },
    {
      "cell_type": "markdown",
      "source": [
        "* I selected a box plot because it efficiently shows the median, quartiles, and outliers of customer counts.\n",
        "\n",
        "* It provides a compact summary of the data's spread and reveals the presence of extreme values that might represent very busy or very quiet store days."
      ],
      "metadata": {
        "id": "5aaW0BYyYklI"
      }
    },
    {
      "cell_type": "markdown",
      "source": [
        "##### 2. What is/are the insight(s) found from the chart?"
      ],
      "metadata": {
        "id": "ijmpgYnKYklI"
      }
    },
    {
      "cell_type": "markdown",
      "source": [
        "* The box plot reveals that most stores have moderate customer traffic, but there are several high outliers - indicating days or stores with significantly higher footfall.\n",
        "\n",
        "* The median value of customers lies in the lower range, suggesting that many stores experience fewer visitors on average, while only a few see very large customer numbers."
      ],
      "metadata": {
        "id": "PSx9atu2YklI"
      }
    },
    {
      "cell_type": "markdown",
      "source": [
        "##### 3. Will the gained insights help creating a positive business impact?\n",
        "Are there any insights that lead to negative growth? Justify with specific reason."
      ],
      "metadata": {
        "id": "-JiQyfWJYklI"
      }
    },
    {
      "cell_type": "markdown",
      "source": [
        "* Yes, these insights can lead to positive business impact by helping management identify peak-performing stores or days with unusually high customer counts.\n",
        "\n",
        "* Studying those cases can uncover best practices in promotions, store layout, or timing that attract more visitors.\n",
        "\n",
        "* However, the large number of low-median stores and high outliers indicate customer inequality — where only a few stores get the majority of traffic.\n",
        "\n",
        "---\n",
        "\n",
        "* If ignored, this imbalance could lead to negative growth, as underperforming stores may struggle with low footfall and reduced profitability.\n",
        "\n",
        "* Hence, understanding this spread helps in rebalancing marketing efforts and improving traffic consistency across stores."
      ],
      "metadata": {
        "id": "BcBbebzrYklV"
      }
    },
    {
      "cell_type": "markdown",
      "source": [
        "#### Chart 3 - Violin Plot of Competition Distance"
      ],
      "metadata": {
        "id": "EM7whBJCYoAo"
      }
    },
    {
      "cell_type": "code",
      "source": [
        "# Chart - 3 visualization code\n",
        "\n",
        "# Features Used - CompetitionDistance\n",
        "\n",
        "# ✅ Why this chart is important to include\n",
        "# This visualization helps us understand how CompetitionDistance is distributed among all Rossmann stores.\n",
        "# It reveals whether most stores face nearby competitors or if some operate in low-competition areas.\n",
        "# Understanding this spread helps identify how market competition might influence overall sales and customer reach.\n",
        "\n",
        "\n",
        "#-----------------------------------------------------------------------------------------------------------------------------#\n",
        "\n",
        "\n",
        "# Plotting the violin plot to visualize the distribution shape and density\n",
        "sns.violinplot(\n",
        "    data=df,\n",
        "    x='CompetitionDistance',   # Setting the variable to visualize\n",
        "    color='skyblue',           # Choosing a light color for better readability\n",
        "    inner='quartile',          # Showing quartiles inside the violin\n",
        "    cut=0                      # Preventing density from extending beyond data range\n",
        ")\n",
        "\n",
        "# Adding title and labels\n",
        "plt.title('Violin Plot of Competition Distance', fontsize=15, fontweight='bold', color='black')\n",
        "plt.xlabel('Distance to Nearest Competitor (meters)', fontsize=12)\n",
        "\n",
        "# Customizing gridlines and chart borders\n",
        "plt.grid(axis='x', linestyle='--', alpha=0.7)\n",
        "plt.box(False)\n",
        "\n",
        "# Displaying the plot\n",
        "plt.show()"
      ],
      "metadata": {
        "id": "t6GMdE67YoAp"
      },
      "execution_count": null,
      "outputs": []
    },
    {
      "cell_type": "markdown",
      "source": [
        "##### 1. Why did you pick the specific chart?"
      ],
      "metadata": {
        "id": "fge-S5ZAYoAp"
      }
    },
    {
      "cell_type": "markdown",
      "source": [
        "* I selected a violin plot because it combines the advantages of both a box plot and a density plot.\n",
        "\n",
        "* It effectively displays how the competition distances are distributed, highlighting whether most stores face nearby competition or are located in isolated markets.\n",
        "\n",
        "* This visualization helps us clearly see the concentration and variation of competitor distances."
      ],
      "metadata": {
        "id": "5dBItgRVYoAp"
      }
    },
    {
      "cell_type": "markdown",
      "source": [
        "##### 2. What is/are the insight(s) found from the chart?"
      ],
      "metadata": {
        "id": "85gYPyotYoAp"
      }
    },
    {
      "cell_type": "markdown",
      "source": [
        "* The violin plot shows that most stores have competitors within a short to moderate distance, while a smaller number of stores are located far away from competitors.\n",
        "\n",
        "* The long tail on the right indicates a few stores with very high competition distances, meaning they have almost no nearby competitors - these are likely stores operating in low-competition or rural areas."
      ],
      "metadata": {
        "id": "4jstXR6OYoAp"
      }
    },
    {
      "cell_type": "markdown",
      "source": [
        "##### 3. Will the gained insights help creating a positive business impact?\n",
        "Are there any insights that lead to negative growth? Justify with specific reason."
      ],
      "metadata": {
        "id": "RoGjAbkUYoAp"
      }
    },
    {
      "cell_type": "markdown",
      "source": [
        "* Yes, this insight has positive business implications.\n",
        "Stores located far from competitors likely enjoy a competitive advantage — higher sales potential and customer loyalty due to limited alternatives nearby.\n",
        "\n",
        "* Rossmann can use this insight to identify profitable low-competition zones and target similar locations for new store openings.\n",
        "\n",
        "---\n",
        "\n",
        "* However, the negative aspect is that many stores face close competition, which can lead to reduced daily sales if pricing or promotions are not optimized.\n",
        "\n",
        "* To avoid negative growth, Rossmann can analyze sales patterns of stores with nearby competitors and apply aggressive marketing or localized discount strategies to maintain market share.\n"
      ],
      "metadata": {
        "id": "zfJ8IqMcYoAp"
      }
    },
    {
      "cell_type": "markdown",
      "source": [
        "#### Chart 4 - Count Plot of Promotion Activity"
      ],
      "metadata": {
        "id": "4Of9eVA-YrdM"
      }
    },
    {
      "cell_type": "code",
      "source": [
        "df.columns"
      ],
      "metadata": {
        "id": "ljPOn6obuotr"
      },
      "execution_count": null,
      "outputs": []
    },
    {
      "cell_type": "code",
      "source": [
        "# Chart - 4 visualization code\n",
        "\n",
        "# Features used :- Promo\n",
        "\n",
        "# ✅ Why this chart is important to include ?\n",
        "# Promotions have a direct and measurable impact on sales — they drive customer traffic, influence purchasing behavior,\n",
        "# and affect store profitability.\n",
        "# By visualizing how frequently promotions occur, we can:\n",
        "#     * Understand how often Rossmann runs promotions.\n",
        "#     * Check for data balance (too few or too many promo days).\n",
        "#     * Prepare for later bivariate analysis, where we’ll compare promotions with sales performance.\n",
        "#     * This chart helps lay the groundwork for analyzing how promotional frequency affects sales trends.\n",
        "\n",
        "\n",
        "\n",
        "#------------------------------------------------------------------------------------------------------------------------------------#\n",
        "\n",
        "# Creating the figure and defining its size\n",
        "plt.figure(figsize=(7,5))\n",
        "\n",
        "# Plotting the count plot to show number of promo vs non-promo days\n",
        "sns.countplot(\n",
        "    data=df,\n",
        "    x='StateHoliday',                 # Selecting the 'Promo' variable\n",
        "    palette=['salmon', 'lightgreen'],  # Choosing contrasting colors for clarity\n",
        "    edgecolor='black'          # Adding borders to bars for visual definition\n",
        ")\n",
        "\n",
        "# Adding value annotations above bars\n",
        "for container in plt.gca().containers:\n",
        "    plt.bar_label(container, fmt='%d', label_type='edge', fontsize=10)\n",
        "\n",
        "# Adding title and axis labels\n",
        "plt.title('Count Plot of Promotion Activity', fontsize=15, fontweight='bold', color='darkred')\n",
        "plt.xlabel('Promotion Active (1 = Yes, 0 = No)', fontsize=12)\n",
        "plt.ylabel('Count of Days', fontsize=12)\n",
        "\n",
        "# Customizing grid and borders\n",
        "plt.grid(axis='y', linestyle='--', alpha=0.7)\n",
        "plt.box(False)\n",
        "\n",
        "# Displaying the plot\n",
        "plt.show()"
      ],
      "metadata": {
        "id": "irlUoxc8YrdO"
      },
      "execution_count": null,
      "outputs": []
    },
    {
      "cell_type": "markdown",
      "source": [
        "##### 1. Why did you pick the specific chart?"
      ],
      "metadata": {
        "id": "iky9q4vBYrdO"
      }
    },
    {
      "cell_type": "markdown",
      "source": [
        "* I selected a count plot because Promo is a binary categorical variable.\n",
        "\n",
        "* A count plot clearly shows how many observations fall into each category (1 for promo days, 0 for non-promo days).\n",
        "\n",
        "* This makes it easy to visualize the overall proportion of promotional activity across the dataset."
      ],
      "metadata": {
        "id": "aJRCwT6DYrdO"
      }
    },
    {
      "cell_type": "markdown",
      "source": [
        "##### 2. What is/are the insight(s) found from the chart?"
      ],
      "metadata": {
        "id": "F6T5p64dYrdO"
      }
    },
    {
      "cell_type": "markdown",
      "source": [
        "* The count plot shows that non-promo days significantly outnumber promo days.\n",
        "* This indicates that promotions are occasional and strategically planned rather than frequent.\n",
        "* It suggests that the company likely runs promotions during specific periods to maximize customer engagement instead of keeping discounts active all the time."
      ],
      "metadata": {
        "id": "Xx8WAJvtYrdO"
      }
    },
    {
      "cell_type": "markdown",
      "source": [
        "##### 3. Will the gained insights help creating a positive business impact?\n",
        "Are there any insights that lead to negative growth? Justify with specific reason."
      ],
      "metadata": {
        "id": "y-Ehk30pYrdP"
      }
    },
    {
      "cell_type": "markdown",
      "source": [
        "* Yes, these insights can create a positive business impact by helping management evaluate the effectiveness of promotional frequency.\n",
        "\n",
        "* If limited promotions result in noticeable sales spikes, it confirms that targeted promotions are effective.\n",
        "\n",
        "---\n",
        "\n",
        "* However, having too few promotions could lead to negative growth, especially if competitors run frequent offers and attract Rossmann's potential customers.\n",
        "\n",
        "* Balancing promotional frequency can therefore help **retain customer interest and maintain competitive"
      ],
      "metadata": {
        "id": "jLNxxz7MYrdP"
      }
    },
    {
      "cell_type": "markdown",
      "source": [
        "#### Chart 5 - Pie Chart of Store Type Distribution"
      ],
      "metadata": {
        "id": "bamQiAODYuh1"
      }
    },
    {
      "cell_type": "code",
      "source": [
        "# Chart - 5 visualization code\n",
        "\n",
        "# Features used - StoreType\n",
        "\n",
        "# ✅ Why this chart is important to include\n",
        "# Different store types cater to different customer segments and have varying sales capacities.\n",
        "# Visualizing the proportion of store types helps us:\n",
        "#     Understand Rossmann’s store structure and market distribution.\n",
        "#     Identify which store type dominates the business.\n",
        "#     Prepare for later analyses (e.g., which store type drives the most sales).\n",
        "# This chart provides a strategic overview of Rossmann's retail landscape.\n",
        "\n",
        "\n",
        "#--------------------------------------------------------------------------------------------------------#\n",
        "\n",
        "\n",
        "# Setting color palette for professional appearance\n",
        "colors = sns.color_palette('pastel')\n",
        "\n",
        "# Creating the figure and defining its size\n",
        "plt.figure(figsize=(7,7))\n",
        "\n",
        "# Calculating the count of each store type\n",
        "store_counts = df['StoreType'].value_counts()\n",
        "\n",
        "# Plotting the pie chart\n",
        "plt.pie(\n",
        "    store_counts,\n",
        "    labels=store_counts.index,             # Adding store type labels\n",
        "    autopct='%1.1f%%',                     # Displaying percentage values\n",
        "    startangle=90,                         # Rotating for better visual balance\n",
        "    colors=colors,                         # Using soft pastel palette\n",
        "    wedgeprops={'edgecolor': 'black'},     # Adding edge for clarity\n",
        "    textprops={'fontsize': 11}\n",
        ")\n",
        "\n",
        "# Adding title\n",
        "plt.title('Distribution of Store Types', fontsize=15, fontweight='bold', color='darkblue')\n",
        "\n",
        "# Displaying the chart\n",
        "plt.show()"
      ],
      "metadata": {
        "id": "TIJwrbroYuh3"
      },
      "execution_count": null,
      "outputs": []
    },
    {
      "cell_type": "markdown",
      "source": [
        "##### 1. Why did you pick the specific chart?"
      ],
      "metadata": {
        "id": "QHF8YVU7Yuh3"
      }
    },
    {
      "cell_type": "markdown",
      "source": [
        "* A pie chart is chosen because it effectively illustrates the proportional composition of categorical variables.\n",
        "\n",
        "* It provides a quick and intuitive view of how Rossmann's stores are distributed among different types.\n",
        "\n",
        "* This helps in visually comparing which store type is most or least common in the dataset."
      ],
      "metadata": {
        "id": "dcxuIMRPYuh3"
      }
    },
    {
      "cell_type": "markdown",
      "source": [
        "##### 2. What is/are the insight(s) found from the chart?"
      ],
      "metadata": {
        "id": "GwzvFGzlYuh3"
      }
    },
    {
      "cell_type": "markdown",
      "source": [
        "* The pie chart shows that one or two store types (often Type a and Type d) dominate the dataset, while others represent smaller portions.\n",
        "\n",
        "* This means that Rossmann's retail network is unevenly distributed across store categories — suggesting different operational focuses such as urban convenience stores vs. large suburban outlets."
      ],
      "metadata": {
        "id": "uyqkiB8YYuh3"
      }
    },
    {
      "cell_type": "markdown",
      "source": [
        "##### 3. Will the gained insights help creating a positive business impact?\n",
        "Are there any insights that lead to negative growth? Justify with specific reason."
      ],
      "metadata": {
        "id": "qYpmQ266Yuh3"
      }
    },
    {
      "cell_type": "markdown",
      "source": [
        "Yes, this visualization provides valuable business insights.\n",
        "\n",
        "* Understanding which store type dominates helps Rossmann align inventory, staffing, and marketing strategies with store format.\n",
        "\n",
        "* For instance, if smaller stores are the majority, strategies can focus on high turnover products and space optimization.\n",
        "\n",
        "---\n",
        "\n",
        "* However, the negative aspect is if too much reliance exists on one store type — it increases business risk due to limited diversification.\n",
        "\n",
        "* Balancing the number of store types across locations ensures resilience and stable revenue growth."
      ],
      "metadata": {
        "id": "_WtzZ_hCYuh4"
      }
    },
    {
      "cell_type": "markdown",
      "source": [
        "#### Chart 6 - Bar Chart of Assortment Type Distribution"
      ],
      "metadata": {
        "id": "OH-pJp9IphqM"
      }
    },
    {
      "cell_type": "code",
      "source": [
        "# Chart - 6 visualization code\n",
        "\n",
        "# Features used -  Assortment\n",
        "\n",
        "# ✅ Why this chart is important to include\n",
        "# Assortment type affects customer attraction and sales volume — stores with a wider assortment may appeal\n",
        "# to a broader customer base but also face higher operating costs.\n",
        "# Visualizing this helps in understanding:\n",
        "#   The dominant assortment strategy across Rossmann stores.\n",
        "#   Whether most stores carry a limited or diverse product range.\n",
        "#   How product variety could influence customer footfall and revenue.\n",
        "# This chart is critical for connecting product diversity with store performance in later analysis.\n",
        "\n",
        "#------------------------------------------------------------------------------------------------------------------------------#\n",
        "\n",
        "\n",
        "# Setting visual theme\n",
        "sns.set(style='whitegrid')\n",
        "\n",
        "# Creating the figure and defining its size\n",
        "plt.figure(figsize=(8,5))\n",
        "\n",
        "# Plotting horizontal bar chart for assortment type distribution\n",
        "sns.countplot(\n",
        "    data=df,\n",
        "    y='Assortment',               # Using 'y' for horizontal layout\n",
        "    order=df['Assortment'].value_counts().index,  # Sorting bars by count\n",
        "    palette='coolwarm',           # Applying visually distinct color palette\n",
        "    edgecolor='black'             # Adding border to bars\n",
        ")\n",
        "\n",
        "# Adding title and labels\n",
        "plt.title('Distribution of Assortment Types', fontsize=15, fontweight='bold', color='darkslateblue')\n",
        "plt.xlabel('Number of Stores', fontsize=12)\n",
        "plt.ylabel('Assortment Type', fontsize=12)\n",
        "\n",
        "# Adding count labels beside bars\n",
        "for container in plt.gca().containers:\n",
        "    plt.bar_label(container, fmt='%d', label_type='edge', fontsize=10)\n",
        "\n",
        "# Customizing grid for clean appearance\n",
        "plt.grid(axis='x', linestyle='--', alpha=0.7)\n",
        "\n",
        "# Removing unnecessary borders\n",
        "plt.box(False)\n",
        "\n",
        "# Displaying the chart\n",
        "plt.show()"
      ],
      "metadata": {
        "id": "kuRf4wtuphqN"
      },
      "execution_count": null,
      "outputs": []
    },
    {
      "cell_type": "markdown",
      "source": [
        "##### 1. Why did you pick the specific chart?"
      ],
      "metadata": {
        "id": "bbFf2-_FphqN"
      }
    },
    {
      "cell_type": "markdown",
      "source": [
        "* A horizontal bar chart is chosen because it clearly displays categorical data while emphasizing the magnitude of each category.\n",
        "\n",
        "* It's ideal for showing frequency comparisons when category labels (like a, b, c) are short but counts differ noticeably.\n",
        "\n",
        "* This chart type also improves readability when there are few categories."
      ],
      "metadata": {
        "id": "loh7H2nzphqN"
      }
    },
    {
      "cell_type": "markdown",
      "source": [
        "##### 2. What is/are the insight(s) found from the chart?"
      ],
      "metadata": {
        "id": "_ouA3fa0phqN"
      }
    },
    {
      "cell_type": "markdown",
      "source": [
        "* The bar chart shows that the majority of stores have an assortment type “a”, meaning they carry basic product lines.\n",
        "\n",
        "* A smaller proportion of stores have type “b” (extra) or type “c” (extended) assortments.\n",
        "\n",
        "* This suggests that Rossmann's focus is primarily on maintaining standardized product offerings across most locations, with only select stores offering specialized or extended assortments."
      ],
      "metadata": {
        "id": "VECbqPI7phqN"
      }
    },
    {
      "cell_type": "markdown",
      "source": [
        "##### 3. Will the gained insights help creating a positive business impact?\n",
        "Are there any insights that lead to negative growth? Justify with specific reason."
      ],
      "metadata": {
        "id": "Seke61FWphqN"
      }
    },
    {
      "cell_type": "markdown",
      "source": [
        "Yes, these insights can generate positive business impact.\n",
        "\n",
        "* Knowing that most stores follow a basic assortment strategy helps Rossmann streamline supply chains, reduce inventory complexity, and control costs.\n",
        "\n",
        "---\n",
        "\n",
        "* However, the negative aspect could be that limited variety may restrict customer choice, especially in competitive areas where shoppers expect more options.\n",
        "\n",
        "* Balancing basic and extended assortments could help attract more customers while maintaining operational efficiency."
      ],
      "metadata": {
        "id": "DW4_bGpfphqN"
      }
    },
    {
      "cell_type": "markdown",
      "source": [
        "#### Chart 7 - Bar Chart of Day of Week Distribution"
      ],
      "metadata": {
        "id": "PIIx-8_IphqN"
      }
    },
    {
      "cell_type": "code",
      "source": [
        "# Chart - 7 visualization code\n",
        "\n",
        "# Features used - DayOfWeek\n",
        "\n",
        "# ✅ Why this chart is important to include\n",
        "# This visualization helps us:\n",
        "#   Identify which days stores are most active.\n",
        "#   Detect patterns like reduced store activity on Sundays or peak activity midweek.\n",
        "#   Prepare for later bivariate analysis to see how sales vary across weekdays.\n",
        "#   This chart adds valuable context about operational rhythm and customer behavior —\n",
        "#   critical for both forecasting and staffing decisions.\n",
        "\n",
        "\n",
        "#-------------------------------------------------------------------------------------------------#\n",
        "\n",
        "\n",
        "# Creating the figure and defining its size\n",
        "plt.figure(figsize=(9,5))\n",
        "\n",
        "# Plotting bar chart showing store activity by day of the week\n",
        "sns.countplot(\n",
        "    data=df,\n",
        "    x='DayOfWeek',                       # Selecting variable to visualize\n",
        "    palette='viridis',                   # Applying color gradient\n",
        "    edgecolor='black'                    # Adding border for clear separation\n",
        ")\n",
        "\n",
        "# Adding title and labels\n",
        "plt.title('Distribution of Day of Week', fontsize=15, fontweight='bold', color='darkgreen')\n",
        "plt.xlabel('Day of the Week (1=Mon, 7=Sun)', fontsize=12)\n",
        "plt.ylabel('Number of Records', fontsize=12)\n",
        "\n",
        "# Adding count labels on each bar\n",
        "for container in plt.gca().containers:\n",
        "    plt.bar_label(container, fmt='%d', label_type='edge', fontsize=10)\n",
        "\n",
        "# Customizing gridlines and removing borders\n",
        "plt.grid(axis='y', linestyle='--', alpha=0.7)\n",
        "plt.box(False)\n",
        "\n",
        "# Displaying the chart\n",
        "plt.show()"
      ],
      "metadata": {
        "id": "lqAIGUfyphqO"
      },
      "execution_count": null,
      "outputs": []
    },
    {
      "cell_type": "markdown",
      "source": [
        "##### 1. Why did you pick the specific chart?"
      ],
      "metadata": {
        "id": "t27r6nlMphqO"
      }
    },
    {
      "cell_type": "markdown",
      "source": [
        "* A bar chart is chosen because DayOfWeek is a discrete numeric categorical variable.\n",
        "\n",
        "* The bar chart effectively shows how many records fall under each weekday, allowing quick identification of operational trends - such as which days have the most or fewest store openings."
      ],
      "metadata": {
        "id": "iv6ro40sphqO"
      }
    },
    {
      "cell_type": "markdown",
      "source": [
        "##### 2. What is/are the insight(s) found from the chart?"
      ],
      "metadata": {
        "id": "r2jJGEOYphqO"
      }
    },
    {
      "cell_type": "markdown",
      "source": [
        "* The bar chart typically shows fewer records for Sundays (Day 7), meaning many stores are closed or operate with reduced hours on that day.\n",
        "* The rest of the days (1-6) have nearly consistent counts, indicating that stores maintain regular activity during weekdays and Saturdays."
      ],
      "metadata": {
        "id": "Po6ZPi4hphqO"
      }
    },
    {
      "cell_type": "markdown",
      "source": [
        "##### 3. Will the gained insights help creating a positive business impact?\n",
        "Are there any insights that lead to negative growth? Justify with specific reason."
      ],
      "metadata": {
        "id": "b0JNsNcRphqO"
      }
    },
    {
      "cell_type": "markdown",
      "source": [
        "* Yes, these insights are highly useful for business operations and workforce planning.\n",
        "\n",
        "* Knowing that most stores are closed or less active on Sundays allows Rossmann to optimize staff scheduling, delivery logistics, and marketing campaigns.\n",
        "\n",
        "* On the positive side, consistent weekday activity supports efficient resource utilization.\n",
        "\n",
        "---\n",
        "\n",
        "* However, the negative implication could be missed revenue opportunities on weekends, especially if competitors stay open.\n",
        "\n",
        "* Rossmann could explore partial Sunday openings or online campaigns to capture unmet demand, minimizing potential negative growth."
      ],
      "metadata": {
        "id": "xvSq8iUTphqO"
      }
    },
    {
      "cell_type": "markdown",
      "source": [
        "#### Chart 8 - Count Plot of Store Opening Status  "
      ],
      "metadata": {
        "id": "BZR9WyysphqO"
      }
    },
    {
      "cell_type": "code",
      "source": [
        "# Chart - 8 visualization code\n",
        "\n",
        "# Features Used - Isopen\n",
        "\n",
        "\n",
        "# ✅ Why this chart is important to include\n",
        "# This chart helps identify:\n",
        "#   The proportion of open vs closed days across all stores.\n",
        "#   Whether missing or irregular patterns exist in store activity.\n",
        "#   The operational consistency of the dataset (useful for model reliability).\n",
        "# It’s a straightforward but crucial check to ensure that most data entries represent real,\n",
        "# open-store scenarios contributing to actual sales.\n",
        "\n",
        "#-------------------------------------------------------------------------------------------------#\n",
        "\n",
        "\n",
        "# Creating the figure and setting its size\n",
        "plt.figure(figsize=(7,5))\n",
        "\n",
        "# Plotting count plot for store open vs closed days\n",
        "sns.countplot(\n",
        "    data=df,\n",
        "    x='IsOpen',                        # Selecting the variable to visualize\n",
        "    palette=['tomato', 'mediumseagreen'],  # Assigning contrasting colors\n",
        "    edgecolor='black'                  # Adding bar borders for definition\n",
        ")\n",
        "\n",
        "# Adding value annotations above bars\n",
        "for container in plt.gca().containers:\n",
        "    plt.bar_label(container, fmt='%d', label_type='edge', fontsize=10)\n",
        "\n",
        "# Adding title and axis labels\n",
        "plt.title('Distribution of Store Opening Status', fontsize=15, fontweight='bold', color='darkred')\n",
        "plt.xlabel('Store Open Status (1 = Open, 0 = Closed)', fontsize=12)\n",
        "plt.ylabel('Count of Records', fontsize=12)\n",
        "\n",
        "# Customizing grid and removing chart borders\n",
        "plt.grid(axis='y', linestyle='--', alpha=0.7)\n",
        "plt.box(False)\n",
        "\n",
        "# Displaying the plot\n",
        "plt.show()"
      ],
      "metadata": {
        "id": "TdPTWpAVphqO"
      },
      "execution_count": null,
      "outputs": []
    },
    {
      "cell_type": "markdown",
      "source": [
        "##### 1. Why did you pick the specific chart?"
      ],
      "metadata": {
        "id": "jj7wYXLtphqO"
      }
    },
    {
      "cell_type": "markdown",
      "source": [
        "* A count plot is chosen because IsOpen is a binary categorical variable.\n",
        "* It provides a simple yet effective way to visualize how often stores are open or closed across all records, ensuring our dataset is operationally consistent before modeling.\n"
      ],
      "metadata": {
        "id": "Ob8u6rCTphqO"
      }
    },
    {
      "cell_type": "markdown",
      "source": [
        "##### 2. What is/are the insight(s) found from the chart?"
      ],
      "metadata": {
        "id": "eZrbJ2SmphqO"
      }
    },
    {
      "cell_type": "markdown",
      "source": [
        "* The count plot shows that the majority of records correspond to open days (IsOpen = 1), while a much smaller fraction are closed days.\n",
        "\n",
        "* This confirms that the dataset mostly reflects active business days, which is ideal for sales prediction.\n",
        "\n",
        "* The presence of a few closed days also shows the dataset captures realistic business operations.\n"
      ],
      "metadata": {
        "id": "mZtgC_hjphqO"
      }
    },
    {
      "cell_type": "markdown",
      "source": [
        "\n",
        "##### 3. Will the gained insights help creating a positive business impact?\n",
        "Are there any insights that lead to negative growth? Justify with specific reason."
      ],
      "metadata": {
        "id": "rFu4xreNphqO"
      }
    },
    {
      "cell_type": "markdown",
      "source": [
        "* Yes, these insights are important for ensuring data and operational integrity.\n",
        "\n",
        "* The dominance of open days provides a strong foundation for accurate sales modeling - ensuring that most data points represent valid business activity.\n",
        "\n",
        "---\n",
        "\n",
        "* However, from a business standpoint, frequent closures (if any) could lead to lost revenue opportunities.\n",
        "\n",
        "* Monitoring and minimizing unexpected closures can therefore help prevent negative growth and improve store-level performance consistency.\n"
      ],
      "metadata": {
        "id": "ey_0qi68phqO"
      }
    },
    {
      "cell_type": "markdown",
      "source": [
        "#### Chart 9 - Donut Chart of Promo2 (Long-Term Promotion Participation)\n",
        "\n"
      ],
      "metadata": {
        "id": "YJ55k-q6phqO"
      }
    },
    {
      "cell_type": "code",
      "source": [
        "# Chart - 9 visualization code\n",
        "\n",
        "# Features used - Promo2\n",
        "\n",
        "\n",
        "# ✅ Why this chart is important to include ?\n",
        "# The Promo2 feature indicates whether a store is enrolled in Rossmann’s long-term continuous promotion scheme.\n",
        "# Visualizing this helps us:\n",
        "#   Understand what portion of stores are part of ongoing promotions.\n",
        "#   Identify how widespread the Promo2 program is within the business.\n",
        "#   Prepare for later bivariate or multivariate analysis to compare sales behavior\n",
        "#     between Promo2 and non-Promo2 stores.\n",
        "#   It connects directly to strategic marketing and sales forecasting.\n",
        "\n",
        "\n",
        "#------------------------------------------------------------------------------------------------------#\n",
        "\n",
        "\n",
        "\n",
        "# Setting color palette\n",
        "colors = sns.color_palette(['#66b3ff', '#ff9999'])  # Blue for active, red for not participating\n",
        "\n",
        "# Creating count of Promo2 values\n",
        "promo2_counts = df['Promo2'].value_counts()\n",
        "\n",
        "# Creating the figure and defining its size\n",
        "plt.figure(figsize=(7,7))\n",
        "\n",
        "# Plotting the donut (pie) chart\n",
        "wedges, texts, autotexts = plt.pie(\n",
        "    promo2_counts,\n",
        "    labels=['Participating', 'Not Participating'],\n",
        "    autopct='%1.1f%%',               # Showing percentage\n",
        "    startangle=90,                   # Rotating for better balance\n",
        "    colors=colors,\n",
        "    wedgeprops={'edgecolor': 'black', 'linewidth': 1},\n",
        "    textprops={'fontsize': 11}\n",
        ")\n",
        "\n",
        "# Creating the white circle in the center to form a donut shape\n",
        "centre_circle = plt.Circle((0,0), 0.70, fc='white')\n",
        "fig = plt.gcf()\n",
        "fig.gca().add_artist(centre_circle)\n",
        "\n",
        "# Adding title\n",
        "plt.title('Distribution of Promo2 (Long-Term Promotion Participation)', fontsize=15, fontweight='bold', color='darkblue')\n",
        "\n",
        "# Displaying the chart\n",
        "plt.show()\n",
        "\n",
        "\n"
      ],
      "metadata": {
        "id": "B2aS4O1ophqO"
      },
      "execution_count": null,
      "outputs": []
    },
    {
      "cell_type": "markdown",
      "source": [
        "##### 1. Why did you pick the specific chart?"
      ],
      "metadata": {
        "id": "gCFgpxoyphqP"
      }
    },
    {
      "cell_type": "markdown",
      "source": [
        "* A donut chart is chosen because it effectively represents part-to-whole proportions while offering a clean, modern visualization style.\n",
        "\n",
        "* It helps clearly show how many stores are part of Rossmann's long-term promotion program (Promo2) versus those that are not."
      ],
      "metadata": {
        "id": "TVxDimi2phqP"
      }
    },
    {
      "cell_type": "markdown",
      "source": [
        "##### 2. What is/are the insight(s) found from the chart?"
      ],
      "metadata": {
        "id": "OVtJsKN_phqQ"
      }
    },
    {
      "cell_type": "markdown",
      "source": [
        "* The donut chart shows that a smaller proportion of stores participate in Promo2, while most stores do not.\n",
        "\n",
        "* This suggests that Rossmann's long-term promotion strategy is selective, possibly targeting specific store types or regions.\n",
        "\n",
        "* The insight implies that Promo2 participation is not universal, giving a good opportunity to compare performance across both groups."
      ],
      "metadata": {
        "id": "ngGi97qjphqQ"
      }
    },
    {
      "cell_type": "markdown",
      "source": [
        "##### 3. Will the gained insights help creating a positive business impact?\n",
        "Are there any insights that lead to negative growth? Justify with specific reason."
      ],
      "metadata": {
        "id": "lssrdh5qphqQ"
      }
    },
    {
      "cell_type": "markdown",
      "source": [
        "* Yes — this insight can lead to positive business impact by identifying how long-term promotions influence overall sales performance.\n",
        "\n",
        "* If Promo2 stores consistently perform better, Rossmann could consider expanding the program to more locations.\n",
        "\n",
        "---\n",
        "\n",
        "\n",
        "* However, if Promo2 participation doesn't show strong results, it may indicate inefficient promotional costs or poor targeting, potentially leading to negative growth.\n",
        "\n",
        "* Understanding this helps in optimizing promotional investments for better ROI."
      ],
      "metadata": {
        "id": "tBpY5ekJphqQ"
      }
    },
    {
      "cell_type": "markdown",
      "source": [
        "#### Chart 10 - Area Plot of Monthly Distribution."
      ],
      "metadata": {
        "id": "U2RJ9gkRphqQ"
      }
    },
    {
      "cell_type": "code",
      "source": [
        "# Chart - 10 visualization code\n",
        "\n",
        "\n",
        "# Features Used - Month\n",
        "\n",
        "# ✅ Why this chart is important to include\n",
        "# The Month column captures the temporal dimension of the data —\n",
        "# which is essential for understanding seasonality in retail.\n",
        "# Analyzing it helps identify:\n",
        "#     Which months are busiest, indicating peak sales or promotion periods.\n",
        "#     Low-activity months, which might need marketing push or inventory optimization.\n",
        "#     Any missing or uneven data distribution across months (important for modeling).\n",
        "#     The area plot adds visual depth, showing both trends and magnitudes over time,\n",
        "#         perfect for highlighting seasonal variation.\n",
        "\n",
        "\n",
        "\n",
        "#------------------------------------------------------------------------------------------------------#\n",
        "\n",
        "\n",
        "\n",
        "# Creating a series of month-wise counts and ensuring months 1..12 are present\n",
        "month_counts = df['Month'].value_counts().sort_index()\n",
        "month_counts = month_counts.reindex(range(1,13), fill_value=0)  # Ensuring complete month index\n",
        "\n",
        "# Creating the figure and defining its size\n",
        "plt.figure(figsize=(10,6))\n",
        "\n",
        "# Plotting the area chart using fill_between (x, y1)\n",
        "# Passing x and y1 as positional arguments to satisfy matplotlib API\n",
        "plt.fill_between(\n",
        "    month_counts.index,            # x: month numbers 1..12\n",
        "    month_counts.values,           # y1: counts for each month\n",
        "    color='lightcoral',            # Choosing a soft red tone for retail theme\n",
        "    alpha=0.7,                     # Adding transparency for aesthetic look\n",
        "    linewidth=2,\n",
        "    edgecolor='darkred'\n",
        ")\n",
        "\n",
        "# Overlaying a line for clearer trend visualization\n",
        "plt.plot(\n",
        "    month_counts.index,\n",
        "    month_counts.values,\n",
        "    marker='o',\n",
        "    color='darkred',\n",
        "    linewidth=1.8\n",
        ")\n",
        "\n",
        "# Adding title and axis labels\n",
        "plt.title('Monthly Distribution of Records', fontsize=16, fontweight='bold', color='darkred')\n",
        "plt.xlabel('Month (1 = Jan, 12 = Dec)', fontsize=12)\n",
        "plt.ylabel('Number of Records', fontsize=12)\n",
        "\n",
        "# Customizing ticks to show month numbers\n",
        "plt.xticks(ticks=np.arange(1,13), labels=[str(m) for m in range(1,13)])\n",
        "\n",
        "# Customizing grid and removing top/right borders\n",
        "plt.grid(axis='y', linestyle='--', alpha=0.7)\n",
        "plt.box(False)\n",
        "\n",
        "# Displaying the plot\n",
        "plt.show()\n",
        "\n"
      ],
      "metadata": {
        "id": "GM7a4YP4phqQ"
      },
      "execution_count": null,
      "outputs": []
    },
    {
      "cell_type": "markdown",
      "source": [
        "##### 1. Why did you pick the specific chart?"
      ],
      "metadata": {
        "id": "1M8mcRywphqQ"
      }
    },
    {
      "cell_type": "markdown",
      "source": [
        "* An area plot is chosen because it visually emphasizes both the trend and volume of monthly records.\n",
        "\n",
        "* It helps to quickly identify seasonal highs and lows across months, which are vital for understanding sales cycles, promotional timing, and annual business behavior."
      ],
      "metadata": {
        "id": "8agQvks0phqQ"
      }
    },
    {
      "cell_type": "markdown",
      "source": [
        "##### 2. What is/are the insight(s) found from the chart?"
      ],
      "metadata": {
        "id": "tgIPom80phqQ"
      }
    },
    {
      "cell_type": "markdown",
      "source": [
        "* The area plot generally shows consistent record volume across months, confirming even data collection.\n",
        "\n",
        "* However, if the plot shows visible peaks in months like November or December, it indicates holiday-season activity — a typical trend in retail.\n",
        "\n",
        "* Similarly, small dips might correspond to off-peak or non-promotional months."
      ],
      "metadata": {
        "id": "Qp13pnNzphqQ"
      }
    },
    {
      "cell_type": "markdown",
      "source": [
        "##### 3. Will the gained insights help creating a positive business impact?\n",
        "Are there any insights that lead to negative growth? Justify with specific reason."
      ],
      "metadata": {
        "id": "JMzcOPDDphqR"
      }
    },
    {
      "cell_type": "markdown",
      "source": [
        "* Yes, these insights can directly support strategic planning and forecasting.\n",
        "\n",
        "* Recognizing high-activity months enables Rossmann to plan inventory, staff, and marketing budgets more efficiently.\n",
        "\n",
        "* Promotions can be scheduled ahead of peak months to maximize profits.\n",
        "\n",
        "---\n",
        "\n",
        "* However, identifying low-activity months is equally important — if left unaddressed, they can lead to negative growth due to underperformance.\n",
        "\n",
        "* Rossmann can counteract that by running special seasonal offers or loyalty campaigns in quieter months."
      ],
      "metadata": {
        "id": "R4Ka1PC2phqR"
      }
    },
    {
      "cell_type": "markdown",
      "source": [
        "#### Chart 11 -  Bar Chart of Yearly Distribution"
      ],
      "metadata": {
        "id": "x-EpHcCOp1ci"
      }
    },
    {
      "cell_type": "code",
      "source": [
        "# Chart - 11 visualization code\n",
        "\n",
        "# Features Used - Year\n",
        "\n",
        "# ✅ Why this chart is important to include\n",
        "# Visualizing the Year variable helps:\n",
        "#   Confirm that data spans multiple years and check for imbalanced coverage.\n",
        "#   Reveal if certain years had more store activity or data collection (possibly due to expansion).\n",
        "#   Prepare for time-based modeling by understanding how many training samples come from each period.\n",
        "#   From a business perspective, it highlights growth or contraction patterns in store operations.\n",
        "\n",
        "#------------------------------------------------------------------------------------------------------#\n",
        "\n",
        "# Creating figure and defining its size\n",
        "plt.figure(figsize=(8,5))\n",
        "\n",
        "# Creating a year-wise count plot to see record distribution by year\n",
        "sns.countplot(\n",
        "    data=df,\n",
        "    x='Year',                        # Selecting the 'Year' variable\n",
        "    palette='coolwarm',              # Using balanced warm-cool color scheme\n",
        "    edgecolor='black'                # Adding black borders for clear separation\n",
        ")\n",
        "\n",
        "# Adding title and axis labels\n",
        "plt.title('Yearly Distribution of Records', fontsize=15, fontweight='bold', color='darkslateblue')\n",
        "plt.xlabel('Year', fontsize=12)\n",
        "plt.ylabel('Number of Records', fontsize=12)\n",
        "\n",
        "# Adding count labels on each bar\n",
        "for container in plt.gca().containers:\n",
        "    plt.bar_label(container, fmt='%d', label_type='edge', fontsize=10)\n",
        "\n",
        "# Customizing gridlines and removing borders\n",
        "plt.grid(axis='y', linestyle='--', alpha=0.7)\n",
        "plt.box(False)\n",
        "\n",
        "# Displaying the chart\n",
        "plt.show()"
      ],
      "metadata": {
        "id": "mAQTIvtqp1cj"
      },
      "execution_count": null,
      "outputs": []
    },
    {
      "cell_type": "markdown",
      "source": [
        "##### 1. Why did you pick the specific chart?"
      ],
      "metadata": {
        "id": "X_VqEhTip1ck"
      }
    },
    {
      "cell_type": "markdown",
      "source": [
        "* A bar chart is chosen because Year is a discrete, time-based categorical variable with a small range of unique values.\n",
        "\n",
        "* It clearly shows how many records belong to each year, making it easy to spot data imbalance or trend progression across years."
      ],
      "metadata": {
        "id": "-vsMzt_np1ck"
      }
    },
    {
      "cell_type": "markdown",
      "source": [
        "##### 2. What is/are the insight(s) found from the chart?"
      ],
      "metadata": {
        "id": "8zGJKyg5p1ck"
      }
    },
    {
      "cell_type": "markdown",
      "source": [
        "* The bar chart shows that most data points belong to recent years, with fewer records in earlier ones.\n",
        "\n",
        "* This suggests that Rossmann's store activity and data logging have expanded over time, aligning with possible business growth or modernization.\n",
        "\n",
        "* It also confirms that the dataset is chronologically diverse, useful for time-series forecasting."
      ],
      "metadata": {
        "id": "ZYdMsrqVp1ck"
      }
    },
    {
      "cell_type": "markdown",
      "source": [
        "##### 3. Will the gained insights help creating a positive business impact?\n",
        "Are there any insights that lead to negative growth? Justify with specific reason."
      ],
      "metadata": {
        "id": "PVzmfK_Ep1ck"
      }
    },
    {
      "cell_type": "markdown",
      "source": [
        "* Yes, these insights directly relate to strategic decision-making.\n",
        "\n",
        "* A steady or increasing number of records each year indicates business expansion, which supports positive growth trends.\n",
        "\n",
        "---\n",
        "\n",
        "* However, if the chart shows a drop in data for certain years, it might signal reduced operations or missing data, which could distort model accuracy or indicate negative growth.\n",
        "\n",
        "* Rossmann can use this insight to review operational changes and ensure data completeness for future planning.\n"
      ],
      "metadata": {
        "id": "druuKYZpp1ck"
      }
    },
    {
      "cell_type": "markdown",
      "source": [
        "#### Chart 12 - PromoInterval (Months When Long-Term Promotions Are Active)"
      ],
      "metadata": {
        "id": "n3dbpmDWp1ck"
      }
    },
    {
      "cell_type": "code",
      "source": [
        "# Chart - 12 visualization code\n",
        "\n",
        "\n",
        "# Features Used - PromoInterval\n",
        "\n",
        "# ✅ Why this chart is important to include ?\n",
        "# The PromoInterval column defines which months (e.g., \"Feb,May,Aug,Nov\") a store’s long-term\n",
        "# promotion (Promo2) is active.\n",
        "# Analyzing this helps Rossmann understand:\n",
        "#   Which months are most commonly used for recurring promotions.\n",
        "#   Whether promotional activity is evenly spread or clustered in specific months.\n",
        "#   Seasonal promotional strategy — for instance, heavier promotions in mid-year or near holidays.\n",
        "#   This chart provides clear visibility into Rossmann’s annual promotion schedule.\n",
        "\n",
        "\n",
        "#--------------------------------------------------------------------------------------------------------#\n",
        "\n",
        "# Keeping only non-null PromoInterval values\n",
        "promo_df = df.dropna(subset=['PromoInterval']).copy()\n",
        "\n",
        "# Splitting comma-separated months into lists efficiently\n",
        "promo_df['PromoInterval'] = promo_df['PromoInterval'].str.split(',')\n",
        "\n",
        "# Using explode() to create one row per month (much faster than sum())\n",
        "promo_month_counts = (\n",
        "    promo_df['PromoInterval']\n",
        "    .explode()                              # Expanding month list into separate rows\n",
        "    .value_counts()                         # Counting occurrences of each month\n",
        "    .sort_index()                           # Sorting months alphabetically\n",
        ")\n",
        "\n",
        "# Creating the figure and defining its size\n",
        "plt.figure(figsize=(9,5))\n",
        "\n",
        "# Plotting bar chart for frequency of months in PromoInterval\n",
        "sns.barplot(\n",
        "    x=promo_month_counts.index,\n",
        "    y=promo_month_counts.values,\n",
        "    palette='crest',\n",
        "    edgecolor='black'\n",
        ")\n",
        "\n",
        "# Adding title and labels\n",
        "plt.title('Frequency of Months in PromoInterval', fontsize=15, fontweight='bold', color='darkgreen')\n",
        "plt.xlabel('Month', fontsize=12)\n",
        "plt.ylabel('Number of Stores Running Promotions', fontsize=12)\n",
        "\n",
        "# Adding count labels on bars\n",
        "for container in plt.gca().containers:\n",
        "    plt.bar_label(container, fmt='%d', label_type='edge', fontsize=10)\n",
        "\n",
        "# Customizing grid and borders\n",
        "plt.grid(axis='y', linestyle='--', alpha=0.7)\n",
        "plt.box(False)\n",
        "\n",
        "# Displaying the plot\n",
        "plt.show()\n"
      ],
      "metadata": {
        "id": "bwevp1tKp1ck"
      },
      "execution_count": null,
      "outputs": []
    },
    {
      "cell_type": "markdown",
      "source": [
        "##### 1. Why did you pick the specific chart?"
      ],
      "metadata": {
        "id": "ylSl6qgtp1ck"
      }
    },
    {
      "cell_type": "markdown",
      "source": [
        "* A bar chart is chosen because it effectively displays how frequently each month appears in PromoInterval.\n",
        "\n",
        "* It's simple, interpretable, and perfect for showing categorical frequency — i.e., which months most stores run long-term promotions."
      ],
      "metadata": {
        "id": "m2xqNkiQp1ck"
      }
    },
    {
      "cell_type": "markdown",
      "source": [
        "##### 2. What is/are the insight(s) found from the chart?"
      ],
      "metadata": {
        "id": "ZWILFDl5p1ck"
      }
    },
    {
      "cell_type": "markdown",
      "source": [
        "* The bar chart shows that February, May, August, and November appear most often, confirming Rossmann's quarterly promotion strategy.\n",
        "\n",
        "* This pattern suggests that the company aligns major promotional periods with seasonal shopping trends — possibly before spring, summer, fall, and holiday seasons."
      ],
      "metadata": {
        "id": "x-lUsV2mp1ck"
      }
    },
    {
      "cell_type": "markdown",
      "source": [
        "##### 3. Will the gained insights help creating a positive business impact?\n",
        "Are there any insights that lead to negative growth? Justify with specific reason."
      ],
      "metadata": {
        "id": "M7G43BXep1ck"
      }
    },
    {
      "cell_type": "markdown",
      "source": [
        "* Yes, these insights can lead to a positive business impact by confirming that Rossmann strategically schedules promotions throughout the year for steady customer engagement.\n",
        "\n",
        "* By analyzing which promo months generate the highest sales spikes, Rossmann can fine-tune the optimal timing and duration of its campaigns.\n",
        "\n",
        "\n",
        "---\n",
        "\n",
        "\n",
        "* However, if certain months (like January or June) rarely appear, it could lead to periodic sales slumps — a potential negative growth opportunity that can be mitigated by introducing promotions during those low-activity months.\n"
      ],
      "metadata": {
        "id": "5wwDJXsLp1cl"
      }
    },
    {
      "cell_type": "markdown",
      "source": [
        "#### Chart 13 - Distribution of Sales per Customer"
      ],
      "metadata": {
        "id": "Ag9LCva-p1cl"
      }
    },
    {
      "cell_type": "code",
      "source": [
        "# Chart - 13 visualization code\n",
        "\n",
        "# Features Used - SalesPerCustomer\n",
        "\n",
        "# ✅ Why this chart is important to include\n",
        "# The SalesPerCustomer feature measures store efficiency and customer spending behavior —\n",
        "# it tells how much each customer spends on average when visiting a store.\n",
        "# Analyzing it helps us:\n",
        "#   Identify high-value stores or customers.\n",
        "#   Detect spending variation across stores or promotions.\n",
        "#   Understand whether sales growth comes from more customers or higher spend per visit.\n",
        "#   It’s one of the most actionable insights for business decision-making.\n",
        "\n",
        "\n",
        "#--------------------------------------------------------------------------------------------------#\n",
        "\n",
        "\n",
        "# Creating the figure and defining its size\n",
        "plt.figure(figsize=(10,6))\n",
        "\n",
        "# Plotting histogram with KDE for Sales per Customer\n",
        "sns.histplot(\n",
        "    data=df,\n",
        "    x='SalesPerCustomer',\n",
        "    bins=50,\n",
        "    kde=True,\n",
        "    color='mediumseagreen',\n",
        "    alpha=0.7\n",
        ")\n",
        "\n",
        "# Adding title and axis labels\n",
        "plt.title('Distribution of Sales per Customer', fontsize=16, fontweight='bold', color='darkgreen')\n",
        "plt.xlabel('Average Sales per Customer', fontsize=12)\n",
        "plt.ylabel('Frequency', fontsize=12)\n",
        "\n",
        "# Customizing grid and removing unnecessary borders\n",
        "plt.grid(axis='y', linestyle='--', alpha=0.7)\n",
        "plt.box(False)\n",
        "\n",
        "# Displaying the plot\n",
        "plt.show()\n",
        "\n"
      ],
      "metadata": {
        "id": "EUfxeq9-p1cl"
      },
      "execution_count": null,
      "outputs": []
    },
    {
      "cell_type": "markdown",
      "source": [
        "##### 1. Why did you pick the specific chart?"
      ],
      "metadata": {
        "id": "E6MkPsBcp1cl"
      }
    },
    {
      "cell_type": "markdown",
      "source": [
        "* A histogram with a KDE curve is chosen because SalesPerCustomer is a continuous numeric variable.\n",
        "\n",
        "* It's the best way to understand the spread, skewness, and outliers in customer spending.\n",
        "\n",
        "* This visualization helps determine whether most customers spend similarly or if there are wide variations in spending behavior."
      ],
      "metadata": {
        "id": "V22bRsFWp1cl"
      }
    },
    {
      "cell_type": "markdown",
      "source": [
        "##### 2. What is/are the insight(s) found from the chart?"
      ],
      "metadata": {
        "id": "2cELzS2fp1cl"
      }
    },
    {
      "cell_type": "markdown",
      "source": [
        "* The distribution is typically right-skewed, meaning most customers spend within a moderate range, but there are a few instances where average spend per customer is very high.\n",
        "\n",
        "* This could indicate premium stores, loyalty-based customers, or successful promotions.\n",
        "\n",
        "* It also confirms that spending patterns vary significantly across stores and customer groups."
      ],
      "metadata": {
        "id": "ozQPc2_Ip1cl"
      }
    },
    {
      "cell_type": "markdown",
      "source": [
        "##### 3. Will the gained insights help creating a positive business impact?\n",
        "Are there any insights that lead to negative growth? Justify with specific reason."
      ],
      "metadata": {
        "id": "3MPXvC8up1cl"
      }
    },
    {
      "cell_type": "markdown",
      "source": [
        "* Yes — this insight can directly improve marketing and pricing strategies.\n",
        "\n",
        "* Stores with higher SalesPerCustomer can serve as benchmarks — Rossmann can analyze what differentiates them (location, promotions, product mix).\n",
        "\n",
        "* Encouraging similar behavior in other stores can drive positive business impact through better conversion and upselling.\n",
        "\n",
        "---\n",
        "\n",
        "* On the other hand, stores with very low average spend might indicate ineffective pricing, poor assortment, or promotions that attract low-value customers — a sign of potential negative growth.\n",
        "\n",
        "* Targeted improvements in product placement or promotional design can address this imbalance."
      ],
      "metadata": {
        "id": "GL8l1tdLp1cl"
      }
    },
    {
      "cell_type": "markdown",
      "source": [
        "#### Chart 14 - Zero Sales While Open"
      ],
      "metadata": {
        "id": "bfGiuKi-ru8n"
      }
    },
    {
      "cell_type": "code",
      "source": [
        "# Chart - 14 visualization code\n",
        "\n",
        "\n",
        "# Features Used - ZeroSalesWhleOpen\n",
        "\n",
        "\n",
        "# ✅ Why this chart is important to include\n",
        "# This chart highlights how often stores were open but recorded zero sales —\n",
        "# an indicator of data issues or operational inefficiency.\n",
        "# It’s an excellent inclusion because it bridges the gap between data validation\n",
        "# and business performance, helping Rossmann ensure model accuracy and store productivity.\n",
        "\n",
        "\n",
        "\n",
        "#------------------------------------------------------------------------------------------------------#\n",
        "\n",
        "\n",
        "# Calculating total count of such occurrences\n",
        "zero_sales_counts = df['ZeroSalesWhileOpen'].value_counts()\n",
        "\n",
        "# Setting visual theme\n",
        "sns.set(style='whitegrid')\n",
        "\n",
        "# Creating figure and defining size\n",
        "plt.figure(figsize=(7,6))\n",
        "\n",
        "# Plotting a bar chart to show count of zero sales occurrences\n",
        "sns.barplot(\n",
        "    x=zero_sales_counts.index.map({0: 'No', 1: 'Yes'}),\n",
        "    y=zero_sales_counts.values,\n",
        "    palette=['mediumseagreen', 'salmon'],\n",
        "    edgecolor='black'\n",
        ")\n",
        "\n",
        "# Adding title and labels\n",
        "plt.title('Occurrences of Zero Sales While Store Was Open', fontsize=15, fontweight='bold', color='darkred')\n",
        "plt.xlabel('Zero Sales While Open', fontsize=12)\n",
        "plt.ylabel('Number of Records', fontsize=12)\n",
        "\n",
        "# Adding data labels on bars\n",
        "for container in plt.gca().containers:\n",
        "    plt.bar_label(container, fmt='%d', label_type='edge', fontsize=10)\n",
        "\n",
        "# Customizing gridlines and removing top/right spines\n",
        "plt.grid(axis='y', linestyle='--', alpha=0.7)\n",
        "plt.box(False)\n",
        "\n",
        "# Displaying the plot\n",
        "plt.show()\n"
      ],
      "metadata": {
        "id": "gViVuCy9ru8o"
      },
      "execution_count": null,
      "outputs": []
    },
    {
      "cell_type": "markdown",
      "source": [
        "##### 1. Why did you pick the specific chart?"
      ],
      "metadata": {
        "id": "CcDFmFDIru8p"
      }
    },
    {
      "cell_type": "markdown",
      "source": [
        "* A bar chart is chosen because the variable ZeroSalesWhileOpen is binary (Yes/No).\n",
        "\n",
        "* This makes a bar chart ideal for showing how often such cases occur in the dataset.\n",
        "\n",
        "* It clearly visualizes the frequency of potential anomalies — stores open but not generating sales."
      ],
      "metadata": {
        "id": "DwTq1IUjru8p"
      }
    },
    {
      "cell_type": "markdown",
      "source": [
        "##### 2. What is/are the insight(s) found from the chart?"
      ],
      "metadata": {
        "id": "WwhUbehXru8q"
      }
    },
    {
      "cell_type": "markdown",
      "source": [
        "* The chart shows that while most store records reflect sales during open hours, there are a few cases where the store was open but reported zero sales.\n",
        "* These records are rare but significant, as they could indicate:\n",
        "\n",
        "    * Data entry errors\n",
        "\n",
        "    * System outages\n",
        "\n",
        "    * Or genuinely unproductive business days."
      ],
      "metadata": {
        "id": "Bvd-Aoazru8q"
      }
    },
    {
      "cell_type": "markdown",
      "source": [
        "##### 3. Will the gained insights help creating a positive business impact?\n",
        "Are there any insights that lead to negative growth? Justify with specific reason."
      ],
      "metadata": {
        "id": "7m2Yf9wIru8q"
      }
    },
    {
      "cell_type": "markdown",
      "source": [
        "* Yes — this insight has strong positive business implications.\n",
        "Identifying and addressing “zero sales while open” cases ensures clean, accurate data for future modeling, leading to more reliable forecasts.\n",
        "\n",
        "* Operationally, Rossmann can investigate these instances to prevent future inefficiencies, improving store uptime and staff productivity.\n",
        "\n",
        "* If ignored, such cases could mislead analysis or mask revenue loss, leading to negative growth."
      ],
      "metadata": {
        "id": "5rxDYk8Tru8q"
      }
    },
    {
      "cell_type": "markdown",
      "source": [
        "#### Chart 15 - Distribution of Competition Open Months"
      ],
      "metadata": {
        "id": "eG8W0xA93Ete"
      }
    },
    {
      "cell_type": "code",
      "source": [
        "# Chart - 14 visualization code\n",
        "\n",
        "\n",
        "# Features Used - ZeroSalesWhleOpen\n",
        "\n",
        "\n",
        "# ✅ Why this chart is important to include\n",
        "# The CompetitionOpenMonths feature shows how long each store’s competitor has been active near it.\n",
        "# Analyzing this helps us:\n",
        "#   Understand how competitive exposure varies across stores.\n",
        "#   Identify whether most stores are newly exposed or have been long-term competitors.\n",
        "#   Anticipate how competition affects store performance over time.\n",
        "#   It’s an important variable for understanding market saturation and competitive pressure.\n",
        "\n",
        "\n",
        "#------------------------------------------------------------------------------------------------------#\n",
        "\n",
        "\n",
        "# Setting the visual theme\n",
        "sns.set(style='whitegrid')\n",
        "\n",
        "# Creating the figure and defining its size\n",
        "plt.figure(figsize=(10,6))\n",
        "\n",
        "# Plotting histogram with KDE\n",
        "sns.histplot(\n",
        "    data=df,\n",
        "    x='CompetitionOpenMonths',\n",
        "    bins=40,\n",
        "    kde=True,\n",
        "    color='royalblue',\n",
        "    alpha=0.7\n",
        ")\n",
        "\n",
        "# Adding title and labels\n",
        "plt.title('Distribution of Competition Open Months', fontsize=16, fontweight='bold', color='navy')\n",
        "plt.xlabel('Months Since Competition Opened', fontsize=12)\n",
        "plt.ylabel('Number of Records', fontsize=12)\n",
        "\n",
        "# Customizing grid and frame\n",
        "plt.grid(axis='y', linestyle='--', alpha=0.7)\n",
        "plt.box(False)\n",
        "\n",
        "# Displaying the plot\n",
        "plt.show()"
      ],
      "metadata": {
        "id": "lQt1yBKE3Etf"
      },
      "execution_count": null,
      "outputs": []
    },
    {
      "cell_type": "markdown",
      "source": [
        "##### 1. Why did you pick the specific chart?"
      ],
      "metadata": {
        "id": "tRpUI_EK3Etg"
      }
    },
    {
      "cell_type": "markdown",
      "source": [
        "* A bar chart is chosen because the variable ZeroSalesWhileOpen is binary (Yes/No).\n",
        "\n",
        "* This makes a bar chart ideal for showing how often such cases occur in the dataset.\n",
        "\n",
        "* It clearly visualizes the frequency of potential anomalies — stores open but not generating sales."
      ],
      "metadata": {
        "id": "cxsKUa6r3Etg"
      }
    },
    {
      "cell_type": "markdown",
      "source": [
        "##### 2. What is/are the insight(s) found from the chart?"
      ],
      "metadata": {
        "id": "QiCkO2MJ3Eth"
      }
    },
    {
      "cell_type": "markdown",
      "source": [
        "* The chart shows that while most store records reflect sales during open hours, there are a few cases where the store was open but reported zero sales.\n",
        "* These records are rare but significant, as they could indicate:\n",
        "\n",
        "    * Data entry errors\n",
        "\n",
        "    * System outages\n",
        "\n",
        "    * Or genuinely unproductive business days."
      ],
      "metadata": {
        "id": "1z4ickzk3Eth"
      }
    },
    {
      "cell_type": "markdown",
      "source": [
        "##### 3. Will the gained insights help creating a positive business impact?\n",
        "Are there any insights that lead to negative growth? Justify with specific reason."
      ],
      "metadata": {
        "id": "MsKA9P9M3Eth"
      }
    },
    {
      "cell_type": "markdown",
      "source": [
        "* Yes — this insight has strong positive business implications.\n",
        "Identifying and addressing “zero sales while open” cases ensures clean, accurate data for future modeling, leading to more reliable forecasts.\n",
        "\n",
        "* Operationally, Rossmann can investigate these instances to prevent future inefficiencies, improving store uptime and staff productivity.\n",
        "\n",
        "* If ignored, such cases could mislead analysis or mask revenue loss, leading to negative growth."
      ],
      "metadata": {
        "id": "VkdZ6IKz3Eth"
      }
    },
    {
      "cell_type": "markdown",
      "source": [
        "#### Chart - 14 - Correlation Heatmap"
      ],
      "metadata": {
        "id": "NC_X3p0fY2L0"
      }
    },
    {
      "cell_type": "code",
      "source": [
        "# Correlation Heatmap visualization code"
      ],
      "metadata": {
        "id": "xyC9zolEZNRQ"
      },
      "execution_count": null,
      "outputs": []
    },
    {
      "cell_type": "markdown",
      "source": [
        "##### 1. Why did you pick the specific chart?"
      ],
      "metadata": {
        "id": "UV0SzAkaZNRQ"
      }
    },
    {
      "cell_type": "markdown",
      "source": [
        "Answer Here."
      ],
      "metadata": {
        "id": "DVPuT8LYZNRQ"
      }
    },
    {
      "cell_type": "markdown",
      "source": [
        "##### 2. What is/are the insight(s) found from the chart?"
      ],
      "metadata": {
        "id": "YPEH6qLeZNRQ"
      }
    },
    {
      "cell_type": "markdown",
      "source": [
        "Answer Here"
      ],
      "metadata": {
        "id": "bfSqtnDqZNRR"
      }
    },
    {
      "cell_type": "markdown",
      "source": [
        "#### Chart - 15 - Pair Plot"
      ],
      "metadata": {
        "id": "q29F0dvdveiT"
      }
    },
    {
      "cell_type": "code",
      "source": [
        "# Pair Plot visualization code"
      ],
      "metadata": {
        "id": "o58-TEIhveiU"
      },
      "execution_count": null,
      "outputs": []
    },
    {
      "cell_type": "markdown",
      "source": [
        "##### 1. Why did you pick the specific chart?"
      ],
      "metadata": {
        "id": "EXh0U9oCveiU"
      }
    },
    {
      "cell_type": "markdown",
      "source": [
        "Answer Here."
      ],
      "metadata": {
        "id": "eMmPjTByveiU"
      }
    },
    {
      "cell_type": "markdown",
      "source": [
        "##### 2. What is/are the insight(s) found from the chart?"
      ],
      "metadata": {
        "id": "22aHeOlLveiV"
      }
    },
    {
      "cell_type": "markdown",
      "source": [
        "Answer Here"
      ],
      "metadata": {
        "id": "uPQ8RGwHveiV"
      }
    },
    {
      "cell_type": "markdown",
      "source": [
        "## ***5. Hypothesis Testing***"
      ],
      "metadata": {
        "id": "g-ATYxFrGrvw"
      }
    },
    {
      "cell_type": "markdown",
      "source": [
        "### Based on your chart experiments, define three hypothetical statements from the dataset. In the next three questions, perform hypothesis testing to obtain final conclusion about the statements through your code and statistical testing."
      ],
      "metadata": {
        "id": "Yfr_Vlr8HBkt"
      }
    },
    {
      "cell_type": "markdown",
      "source": [
        "Answer Here."
      ],
      "metadata": {
        "id": "-7MS06SUHkB-"
      }
    },
    {
      "cell_type": "markdown",
      "source": [
        "### Hypothetical Statement - 1"
      ],
      "metadata": {
        "id": "8yEUt7NnHlrM"
      }
    },
    {
      "cell_type": "markdown",
      "source": [
        "#### 1. State Your research hypothesis as a null hypothesis and alternate hypothesis."
      ],
      "metadata": {
        "id": "tEA2Xm5dHt1r"
      }
    },
    {
      "cell_type": "markdown",
      "source": [
        "Answer Here."
      ],
      "metadata": {
        "id": "HI9ZP0laH0D-"
      }
    },
    {
      "cell_type": "markdown",
      "source": [
        "#### 2. Perform an appropriate statistical test."
      ],
      "metadata": {
        "id": "I79__PHVH19G"
      }
    },
    {
      "cell_type": "code",
      "source": [
        "# Perform Statistical Test to obtain P-Value"
      ],
      "metadata": {
        "id": "oZrfquKtyian"
      },
      "execution_count": null,
      "outputs": []
    },
    {
      "cell_type": "markdown",
      "source": [
        "##### Which statistical test have you done to obtain P-Value?"
      ],
      "metadata": {
        "id": "Ou-I18pAyIpj"
      }
    },
    {
      "cell_type": "markdown",
      "source": [
        "Answer Here."
      ],
      "metadata": {
        "id": "s2U0kk00ygSB"
      }
    },
    {
      "cell_type": "markdown",
      "source": [
        "##### Why did you choose the specific statistical test?"
      ],
      "metadata": {
        "id": "fF3858GYyt-u"
      }
    },
    {
      "cell_type": "markdown",
      "source": [
        "Answer Here."
      ],
      "metadata": {
        "id": "HO4K0gP5y3B4"
      }
    },
    {
      "cell_type": "markdown",
      "source": [
        "### Hypothetical Statement - 2"
      ],
      "metadata": {
        "id": "4_0_7-oCpUZd"
      }
    },
    {
      "cell_type": "markdown",
      "source": [
        "#### 1. State Your research hypothesis as a null hypothesis and alternate hypothesis."
      ],
      "metadata": {
        "id": "hwyV_J3ipUZe"
      }
    },
    {
      "cell_type": "markdown",
      "source": [
        "Answer Here."
      ],
      "metadata": {
        "id": "FnpLGJ-4pUZe"
      }
    },
    {
      "cell_type": "markdown",
      "source": [
        "#### 2. Perform an appropriate statistical test."
      ],
      "metadata": {
        "id": "3yB-zSqbpUZe"
      }
    },
    {
      "cell_type": "code",
      "source": [
        "# Perform Statistical Test to obtain P-Value"
      ],
      "metadata": {
        "id": "sWxdNTXNpUZe"
      },
      "execution_count": null,
      "outputs": []
    },
    {
      "cell_type": "markdown",
      "source": [
        "##### Which statistical test have you done to obtain P-Value?"
      ],
      "metadata": {
        "id": "dEUvejAfpUZe"
      }
    },
    {
      "cell_type": "markdown",
      "source": [
        "Answer Here."
      ],
      "metadata": {
        "id": "oLDrPz7HpUZf"
      }
    },
    {
      "cell_type": "markdown",
      "source": [
        "##### Why did you choose the specific statistical test?"
      ],
      "metadata": {
        "id": "Fd15vwWVpUZf"
      }
    },
    {
      "cell_type": "markdown",
      "source": [
        "Answer Here."
      ],
      "metadata": {
        "id": "4xOGYyiBpUZf"
      }
    },
    {
      "cell_type": "markdown",
      "source": [
        "### Hypothetical Statement - 3"
      ],
      "metadata": {
        "id": "bn_IUdTipZyH"
      }
    },
    {
      "cell_type": "markdown",
      "source": [
        "#### 1. State Your research hypothesis as a null hypothesis and alternate hypothesis."
      ],
      "metadata": {
        "id": "49K5P_iCpZyH"
      }
    },
    {
      "cell_type": "markdown",
      "source": [
        "Answer Here."
      ],
      "metadata": {
        "id": "7gWI5rT9pZyH"
      }
    },
    {
      "cell_type": "markdown",
      "source": [
        "#### 2. Perform an appropriate statistical test."
      ],
      "metadata": {
        "id": "Nff-vKELpZyI"
      }
    },
    {
      "cell_type": "code",
      "source": [
        "# Perform Statistical Test to obtain P-Value"
      ],
      "metadata": {
        "id": "s6AnJQjtpZyI"
      },
      "execution_count": null,
      "outputs": []
    },
    {
      "cell_type": "markdown",
      "source": [
        "##### Which statistical test have you done to obtain P-Value?"
      ],
      "metadata": {
        "id": "kLW572S8pZyI"
      }
    },
    {
      "cell_type": "markdown",
      "source": [
        "Answer Here."
      ],
      "metadata": {
        "id": "ytWJ8v15pZyI"
      }
    },
    {
      "cell_type": "markdown",
      "source": [
        "##### Why did you choose the specific statistical test?"
      ],
      "metadata": {
        "id": "dWbDXHzopZyI"
      }
    },
    {
      "cell_type": "markdown",
      "source": [
        "Answer Here."
      ],
      "metadata": {
        "id": "M99G98V6pZyI"
      }
    },
    {
      "cell_type": "markdown",
      "source": [
        "## ***6. Feature Engineering & Data Pre-processing***"
      ],
      "metadata": {
        "id": "yLjJCtPM0KBk"
      }
    },
    {
      "cell_type": "markdown",
      "source": [
        "### 1. Handling Missing Values"
      ],
      "metadata": {
        "id": "xiyOF9F70UgQ"
      }
    },
    {
      "cell_type": "code",
      "source": [
        "# Handling Missing Values & Missing Value Imputation"
      ],
      "metadata": {
        "id": "iRsAHk1K0fpS"
      },
      "execution_count": null,
      "outputs": []
    },
    {
      "cell_type": "markdown",
      "source": [
        "#### What all missing value imputation techniques have you used and why did you use those techniques?"
      ],
      "metadata": {
        "id": "7wuGOrhz0itI"
      }
    },
    {
      "cell_type": "markdown",
      "source": [
        "Answer Here."
      ],
      "metadata": {
        "id": "1ixusLtI0pqI"
      }
    },
    {
      "cell_type": "markdown",
      "source": [
        "### 2. Handling Outliers"
      ],
      "metadata": {
        "id": "id1riN9m0vUs"
      }
    },
    {
      "cell_type": "code",
      "source": [
        "# Handling Outliers & Outlier treatments"
      ],
      "metadata": {
        "id": "M6w2CzZf04JK"
      },
      "execution_count": null,
      "outputs": []
    },
    {
      "cell_type": "markdown",
      "source": [
        "##### What all outlier treatment techniques have you used and why did you use those techniques?"
      ],
      "metadata": {
        "id": "578E2V7j08f6"
      }
    },
    {
      "cell_type": "markdown",
      "source": [
        "Answer Here."
      ],
      "metadata": {
        "id": "uGZz5OrT1HH-"
      }
    },
    {
      "cell_type": "markdown",
      "source": [
        "### 3. Categorical Encoding"
      ],
      "metadata": {
        "id": "89xtkJwZ18nB"
      }
    },
    {
      "cell_type": "code",
      "source": [
        "# Encode your categorical columns"
      ],
      "metadata": {
        "id": "21JmIYMG2hEo"
      },
      "execution_count": null,
      "outputs": []
    },
    {
      "cell_type": "markdown",
      "source": [
        "#### What all categorical encoding techniques have you used & why did you use those techniques?"
      ],
      "metadata": {
        "id": "67NQN5KX2AMe"
      }
    },
    {
      "cell_type": "markdown",
      "source": [
        "Answer Here."
      ],
      "metadata": {
        "id": "UDaue5h32n_G"
      }
    },
    {
      "cell_type": "markdown",
      "source": [
        "### 4. Textual Data Preprocessing\n",
        "(It's mandatory for textual dataset i.e., NLP, Sentiment Analysis, Text Clustering etc.)"
      ],
      "metadata": {
        "id": "Iwf50b-R2tYG"
      }
    },
    {
      "cell_type": "markdown",
      "source": [
        "#### 1. Expand Contraction"
      ],
      "metadata": {
        "id": "GMQiZwjn3iu7"
      }
    },
    {
      "cell_type": "code",
      "source": [
        "# Expand Contraction"
      ],
      "metadata": {
        "id": "PTouz10C3oNN"
      },
      "execution_count": null,
      "outputs": []
    },
    {
      "cell_type": "markdown",
      "source": [
        "#### 2. Lower Casing"
      ],
      "metadata": {
        "id": "WVIkgGqN3qsr"
      }
    },
    {
      "cell_type": "code",
      "source": [
        "# Lower Casing"
      ],
      "metadata": {
        "id": "88JnJ1jN3w7j"
      },
      "execution_count": null,
      "outputs": []
    },
    {
      "cell_type": "markdown",
      "source": [
        "#### 3. Removing Punctuations"
      ],
      "metadata": {
        "id": "XkPnILGE3zoT"
      }
    },
    {
      "cell_type": "code",
      "source": [
        "# Remove Punctuations"
      ],
      "metadata": {
        "id": "vqbBqNaA33c0"
      },
      "execution_count": null,
      "outputs": []
    },
    {
      "cell_type": "markdown",
      "source": [
        "#### 4. Removing URLs & Removing words and digits contain digits."
      ],
      "metadata": {
        "id": "Hlsf0x5436Go"
      }
    },
    {
      "cell_type": "code",
      "source": [
        "# Remove URLs & Remove words and digits contain digits"
      ],
      "metadata": {
        "id": "2sxKgKxu4Ip3"
      },
      "execution_count": null,
      "outputs": []
    },
    {
      "cell_type": "markdown",
      "source": [
        "#### 5. Removing Stopwords & Removing White spaces"
      ],
      "metadata": {
        "id": "mT9DMSJo4nBL"
      }
    },
    {
      "cell_type": "code",
      "source": [
        "# Remove Stopwords"
      ],
      "metadata": {
        "id": "T2LSJh154s8W"
      },
      "execution_count": null,
      "outputs": []
    },
    {
      "cell_type": "code",
      "source": [
        "# Remove White spaces"
      ],
      "metadata": {
        "id": "EgLJGffy4vm0"
      },
      "execution_count": null,
      "outputs": []
    },
    {
      "cell_type": "markdown",
      "source": [
        "#### 6. Rephrase Text"
      ],
      "metadata": {
        "id": "c49ITxTc407N"
      }
    },
    {
      "cell_type": "code",
      "source": [
        "# Rephrase Text"
      ],
      "metadata": {
        "id": "foqY80Qu48N2"
      },
      "execution_count": null,
      "outputs": []
    },
    {
      "cell_type": "markdown",
      "source": [
        "#### 7. Tokenization"
      ],
      "metadata": {
        "id": "OeJFEK0N496M"
      }
    },
    {
      "cell_type": "code",
      "source": [
        "# Tokenization"
      ],
      "metadata": {
        "id": "ijx1rUOS5CUU"
      },
      "execution_count": null,
      "outputs": []
    },
    {
      "cell_type": "markdown",
      "source": [
        "#### 8. Text Normalization"
      ],
      "metadata": {
        "id": "9ExmJH0g5HBk"
      }
    },
    {
      "cell_type": "code",
      "source": [
        "# Normalizing Text (i.e., Stemming, Lemmatization etc.)"
      ],
      "metadata": {
        "id": "AIJ1a-Zc5PY8"
      },
      "execution_count": null,
      "outputs": []
    },
    {
      "cell_type": "markdown",
      "source": [
        "##### Which text normalization technique have you used and why?"
      ],
      "metadata": {
        "id": "cJNqERVU536h"
      }
    },
    {
      "cell_type": "markdown",
      "source": [
        "Answer Here."
      ],
      "metadata": {
        "id": "Z9jKVxE06BC1"
      }
    },
    {
      "cell_type": "markdown",
      "source": [
        "#### 9. Part of speech tagging"
      ],
      "metadata": {
        "id": "k5UmGsbsOxih"
      }
    },
    {
      "cell_type": "code",
      "source": [
        "# POS Taging"
      ],
      "metadata": {
        "id": "btT3ZJBAO6Ik"
      },
      "execution_count": null,
      "outputs": []
    },
    {
      "cell_type": "markdown",
      "source": [
        "#### 10. Text Vectorization"
      ],
      "metadata": {
        "id": "T0VqWOYE6DLQ"
      }
    },
    {
      "cell_type": "code",
      "source": [
        "# Vectorizing Text"
      ],
      "metadata": {
        "id": "yBRtdhth6JDE"
      },
      "execution_count": null,
      "outputs": []
    },
    {
      "cell_type": "markdown",
      "source": [
        "##### Which text vectorization technique have you used and why?"
      ],
      "metadata": {
        "id": "qBMux9mC6MCf"
      }
    },
    {
      "cell_type": "markdown",
      "source": [
        "Answer Here."
      ],
      "metadata": {
        "id": "su2EnbCh6UKQ"
      }
    },
    {
      "cell_type": "markdown",
      "source": [
        "### 4. Feature Manipulation & Selection"
      ],
      "metadata": {
        "id": "-oLEiFgy-5Pf"
      }
    },
    {
      "cell_type": "markdown",
      "source": [
        "#### 1. Feature Manipulation"
      ],
      "metadata": {
        "id": "C74aWNz2AliB"
      }
    },
    {
      "cell_type": "code",
      "source": [
        "# Manipulate Features to minimize feature correlation and create new features"
      ],
      "metadata": {
        "id": "h1qC4yhBApWC"
      },
      "execution_count": null,
      "outputs": []
    },
    {
      "cell_type": "markdown",
      "source": [
        "#### 2. Feature Selection"
      ],
      "metadata": {
        "id": "2DejudWSA-a0"
      }
    },
    {
      "cell_type": "code",
      "source": [
        "# Select your features wisely to avoid overfitting"
      ],
      "metadata": {
        "id": "YLhe8UmaBCEE"
      },
      "execution_count": null,
      "outputs": []
    },
    {
      "cell_type": "markdown",
      "source": [
        "##### What all feature selection methods have you used  and why?"
      ],
      "metadata": {
        "id": "pEMng2IbBLp7"
      }
    },
    {
      "cell_type": "markdown",
      "source": [
        "Answer Here."
      ],
      "metadata": {
        "id": "rb2Lh6Z8BgGs"
      }
    },
    {
      "cell_type": "markdown",
      "source": [
        "##### Which all features you found important and why?"
      ],
      "metadata": {
        "id": "rAdphbQ9Bhjc"
      }
    },
    {
      "cell_type": "markdown",
      "source": [
        "Answer Here."
      ],
      "metadata": {
        "id": "fGgaEstsBnaf"
      }
    },
    {
      "cell_type": "markdown",
      "source": [
        "### 5. Data Transformation"
      ],
      "metadata": {
        "id": "TNVZ9zx19K6k"
      }
    },
    {
      "cell_type": "markdown",
      "source": [
        "#### Do you think that your data needs to be transformed? If yes, which transformation have you used. Explain Why?"
      ],
      "metadata": {
        "id": "nqoHp30x9hH9"
      }
    },
    {
      "cell_type": "code",
      "source": [
        "# Transform Your data"
      ],
      "metadata": {
        "id": "I6quWQ1T9rtH"
      },
      "execution_count": null,
      "outputs": []
    },
    {
      "cell_type": "markdown",
      "source": [
        "### 6. Data Scaling"
      ],
      "metadata": {
        "id": "rMDnDkt2B6du"
      }
    },
    {
      "cell_type": "code",
      "source": [
        "# Scaling your data"
      ],
      "metadata": {
        "id": "dL9LWpySC6x_"
      },
      "execution_count": null,
      "outputs": []
    },
    {
      "cell_type": "markdown",
      "source": [
        "##### Which method have you used to scale you data and why?"
      ],
      "metadata": {
        "id": "yiiVWRdJDDil"
      }
    },
    {
      "cell_type": "markdown",
      "source": [
        "### 7. Dimesionality Reduction"
      ],
      "metadata": {
        "id": "1UUpS68QDMuG"
      }
    },
    {
      "cell_type": "markdown",
      "source": [
        "##### Do you think that dimensionality reduction is needed? Explain Why?"
      ],
      "metadata": {
        "id": "kexQrXU-DjzY"
      }
    },
    {
      "cell_type": "markdown",
      "source": [
        "Answer Here."
      ],
      "metadata": {
        "id": "GGRlBsSGDtTQ"
      }
    },
    {
      "cell_type": "code",
      "source": [
        "# DImensionality Reduction (If needed)"
      ],
      "metadata": {
        "id": "kQfvxBBHDvCa"
      },
      "execution_count": null,
      "outputs": []
    },
    {
      "cell_type": "markdown",
      "source": [
        "##### Which dimensionality reduction technique have you used and why? (If dimensionality reduction done on dataset.)"
      ],
      "metadata": {
        "id": "T5CmagL3EC8N"
      }
    },
    {
      "cell_type": "markdown",
      "source": [
        "Answer Here."
      ],
      "metadata": {
        "id": "ZKr75IDuEM7t"
      }
    },
    {
      "cell_type": "markdown",
      "source": [
        "### 8. Data Splitting"
      ],
      "metadata": {
        "id": "BhH2vgX9EjGr"
      }
    },
    {
      "cell_type": "code",
      "source": [
        "# Split your data to train and test. Choose Splitting ratio wisely."
      ],
      "metadata": {
        "id": "0CTyd2UwEyNM"
      },
      "execution_count": null,
      "outputs": []
    },
    {
      "cell_type": "markdown",
      "source": [
        "##### What data splitting ratio have you used and why?"
      ],
      "metadata": {
        "id": "qjKvONjwE8ra"
      }
    },
    {
      "cell_type": "markdown",
      "source": [
        "Answer Here."
      ],
      "metadata": {
        "id": "Y2lJ8cobFDb_"
      }
    },
    {
      "cell_type": "markdown",
      "source": [
        "### 9. Handling Imbalanced Dataset"
      ],
      "metadata": {
        "id": "P1XJ9OREExlT"
      }
    },
    {
      "cell_type": "markdown",
      "source": [
        "##### Do you think the dataset is imbalanced? Explain Why."
      ],
      "metadata": {
        "id": "VFOzZv6IFROw"
      }
    },
    {
      "cell_type": "markdown",
      "source": [
        "Answer Here."
      ],
      "metadata": {
        "id": "GeKDIv7pFgcC"
      }
    },
    {
      "cell_type": "code",
      "source": [
        "# Handling Imbalanced Dataset (If needed)"
      ],
      "metadata": {
        "id": "nQsRhhZLFiDs"
      },
      "execution_count": null,
      "outputs": []
    },
    {
      "cell_type": "markdown",
      "source": [
        "##### What technique did you use to handle the imbalance dataset and why? (If needed to be balanced)"
      ],
      "metadata": {
        "id": "TIqpNgepFxVj"
      }
    },
    {
      "cell_type": "markdown",
      "source": [
        "Answer Here."
      ],
      "metadata": {
        "id": "qbet1HwdGDTz"
      }
    },
    {
      "cell_type": "markdown",
      "source": [
        "## ***7. ML Model Implementation***"
      ],
      "metadata": {
        "id": "VfCC591jGiD4"
      }
    },
    {
      "cell_type": "markdown",
      "source": [
        "### ML Model - 1"
      ],
      "metadata": {
        "id": "OB4l2ZhMeS1U"
      }
    },
    {
      "cell_type": "code",
      "source": [
        "# ML Model - 1 Implementation\n",
        "\n",
        "# Fit the Algorithm\n",
        "\n",
        "# Predict on the model"
      ],
      "metadata": {
        "id": "7ebyywQieS1U"
      },
      "execution_count": null,
      "outputs": []
    },
    {
      "cell_type": "markdown",
      "source": [
        "#### 1. Explain the ML Model used and it's performance using Evaluation metric Score Chart."
      ],
      "metadata": {
        "id": "ArJBuiUVfxKd"
      }
    },
    {
      "cell_type": "code",
      "source": [
        "# Visualizing evaluation Metric Score chart"
      ],
      "metadata": {
        "id": "rqD5ZohzfxKe"
      },
      "execution_count": null,
      "outputs": []
    },
    {
      "cell_type": "markdown",
      "source": [
        "#### 2. Cross- Validation & Hyperparameter Tuning"
      ],
      "metadata": {
        "id": "4qY1EAkEfxKe"
      }
    },
    {
      "cell_type": "code",
      "source": [
        "# ML Model - 1 Implementation with hyperparameter optimization techniques (i.e., GridSearch CV, RandomSearch CV, Bayesian Optimization etc.)\n",
        "\n",
        "# Fit the Algorithm\n",
        "\n",
        "# Predict on the model"
      ],
      "metadata": {
        "id": "Dy61ujd6fxKe"
      },
      "execution_count": null,
      "outputs": []
    },
    {
      "cell_type": "markdown",
      "source": [
        "##### Which hyperparameter optimization technique have you used and why?"
      ],
      "metadata": {
        "id": "PiV4Ypx8fxKe"
      }
    },
    {
      "cell_type": "markdown",
      "source": [
        "Answer Here."
      ],
      "metadata": {
        "id": "negyGRa7fxKf"
      }
    },
    {
      "cell_type": "markdown",
      "source": [
        "##### Have you seen any improvement? Note down the improvement with updates Evaluation metric Score Chart."
      ],
      "metadata": {
        "id": "TfvqoZmBfxKf"
      }
    },
    {
      "cell_type": "markdown",
      "source": [
        "Answer Here."
      ],
      "metadata": {
        "id": "OaLui8CcfxKf"
      }
    },
    {
      "cell_type": "markdown",
      "source": [
        "### ML Model - 2"
      ],
      "metadata": {
        "id": "dJ2tPlVmpsJ0"
      }
    },
    {
      "cell_type": "markdown",
      "source": [
        "#### 1. Explain the ML Model used and it's performance using Evaluation metric Score Chart."
      ],
      "metadata": {
        "id": "JWYfwnehpsJ1"
      }
    },
    {
      "cell_type": "code",
      "source": [
        "# Visualizing evaluation Metric Score chart"
      ],
      "metadata": {
        "id": "yEl-hgQWpsJ1"
      },
      "execution_count": null,
      "outputs": []
    },
    {
      "cell_type": "markdown",
      "source": [
        "#### 2. Cross- Validation & Hyperparameter Tuning"
      ],
      "metadata": {
        "id": "-jK_YjpMpsJ2"
      }
    },
    {
      "cell_type": "code",
      "source": [
        "# ML Model - 1 Implementation with hyperparameter optimization techniques (i.e., GridSearch CV, RandomSearch CV, Bayesian Optimization etc.)\n",
        "\n",
        "# Fit the Algorithm\n",
        "\n",
        "# Predict on the model"
      ],
      "metadata": {
        "id": "Dn0EOfS6psJ2"
      },
      "execution_count": null,
      "outputs": []
    },
    {
      "cell_type": "markdown",
      "source": [
        "##### Which hyperparameter optimization technique have you used and why?"
      ],
      "metadata": {
        "id": "HAih1iBOpsJ2"
      }
    },
    {
      "cell_type": "markdown",
      "source": [
        "Answer Here."
      ],
      "metadata": {
        "id": "9kBgjYcdpsJ2"
      }
    },
    {
      "cell_type": "markdown",
      "source": [
        "##### Have you seen any improvement? Note down the improvement with updates Evaluation metric Score Chart."
      ],
      "metadata": {
        "id": "zVGeBEFhpsJ2"
      }
    },
    {
      "cell_type": "markdown",
      "source": [
        "Answer Here."
      ],
      "metadata": {
        "id": "74yRdG6UpsJ3"
      }
    },
    {
      "cell_type": "markdown",
      "source": [
        "#### 3. Explain each evaluation metric's indication towards business and the business impact pf the ML model used."
      ],
      "metadata": {
        "id": "bmKjuQ-FpsJ3"
      }
    },
    {
      "cell_type": "markdown",
      "source": [
        "Answer Here."
      ],
      "metadata": {
        "id": "BDKtOrBQpsJ3"
      }
    },
    {
      "cell_type": "markdown",
      "source": [
        "### ML Model - 3"
      ],
      "metadata": {
        "id": "Fze-IPXLpx6K"
      }
    },
    {
      "cell_type": "code",
      "source": [
        "# ML Model - 3 Implementation\n",
        "\n",
        "# Fit the Algorithm\n",
        "\n",
        "# Predict on the model"
      ],
      "metadata": {
        "id": "FFrSXAtrpx6M"
      },
      "execution_count": null,
      "outputs": []
    },
    {
      "cell_type": "markdown",
      "source": [
        "#### 1. Explain the ML Model used and it's performance using Evaluation metric Score Chart."
      ],
      "metadata": {
        "id": "7AN1z2sKpx6M"
      }
    },
    {
      "cell_type": "code",
      "source": [
        "# Visualizing evaluation Metric Score chart"
      ],
      "metadata": {
        "id": "xIY4lxxGpx6M"
      },
      "execution_count": null,
      "outputs": []
    },
    {
      "cell_type": "markdown",
      "source": [
        "#### 2. Cross- Validation & Hyperparameter Tuning"
      ],
      "metadata": {
        "id": "9PIHJqyupx6M"
      }
    },
    {
      "cell_type": "code",
      "source": [
        "# ML Model - 3 Implementation with hyperparameter optimization techniques (i.e., GridSearch CV, RandomSearch CV, Bayesian Optimization etc.)\n",
        "\n",
        "# Fit the Algorithm\n",
        "\n",
        "# Predict on the model"
      ],
      "metadata": {
        "id": "eSVXuaSKpx6M"
      },
      "execution_count": null,
      "outputs": []
    },
    {
      "cell_type": "markdown",
      "source": [
        "##### Which hyperparameter optimization technique have you used and why?"
      ],
      "metadata": {
        "id": "_-qAgymDpx6N"
      }
    },
    {
      "cell_type": "markdown",
      "source": [
        "Answer Here."
      ],
      "metadata": {
        "id": "lQMffxkwpx6N"
      }
    },
    {
      "cell_type": "markdown",
      "source": [
        "##### Have you seen any improvement? Note down the improvement with updates Evaluation metric Score Chart."
      ],
      "metadata": {
        "id": "Z-hykwinpx6N"
      }
    },
    {
      "cell_type": "markdown",
      "source": [
        "Answer Here."
      ],
      "metadata": {
        "id": "MzVzZC6opx6N"
      }
    },
    {
      "cell_type": "markdown",
      "source": [
        "### 1. Which Evaluation metrics did you consider for a positive business impact and why?"
      ],
      "metadata": {
        "id": "h_CCil-SKHpo"
      }
    },
    {
      "cell_type": "markdown",
      "source": [
        "Answer Here."
      ],
      "metadata": {
        "id": "jHVz9hHDKFms"
      }
    },
    {
      "cell_type": "markdown",
      "source": [
        "### 2. Which ML model did you choose from the above created models as your final prediction model and why?"
      ],
      "metadata": {
        "id": "cBFFvTBNJzUa"
      }
    },
    {
      "cell_type": "markdown",
      "source": [
        "Answer Here."
      ],
      "metadata": {
        "id": "6ksF5Q1LKTVm"
      }
    },
    {
      "cell_type": "markdown",
      "source": [
        "### 3. Explain the model which you have used and the feature importance using any model explainability tool?"
      ],
      "metadata": {
        "id": "HvGl1hHyA_VK"
      }
    },
    {
      "cell_type": "markdown",
      "source": [
        "Answer Here."
      ],
      "metadata": {
        "id": "YnvVTiIxBL-C"
      }
    },
    {
      "cell_type": "markdown",
      "source": [
        "## ***8.*** ***Future Work (Optional)***"
      ],
      "metadata": {
        "id": "EyNgTHvd2WFk"
      }
    },
    {
      "cell_type": "markdown",
      "source": [
        "### 1. Save the best performing ml model in a pickle file or joblib file format for deployment process.\n"
      ],
      "metadata": {
        "id": "KH5McJBi2d8v"
      }
    },
    {
      "cell_type": "code",
      "source": [
        "# Save the File"
      ],
      "metadata": {
        "id": "bQIANRl32f4J"
      },
      "execution_count": null,
      "outputs": []
    },
    {
      "cell_type": "markdown",
      "source": [
        "### 2. Again Load the saved model file and try to predict unseen data for a sanity check.\n"
      ],
      "metadata": {
        "id": "iW_Lq9qf2h6X"
      }
    },
    {
      "cell_type": "code",
      "source": [
        "# Load the File and predict unseen data."
      ],
      "metadata": {
        "id": "oEXk9ydD2nVC"
      },
      "execution_count": null,
      "outputs": []
    },
    {
      "cell_type": "markdown",
      "source": [
        "### ***Congrats! Your model is successfully created and ready for deployment on a live server for a real user interaction !!!***"
      ],
      "metadata": {
        "id": "-Kee-DAl2viO"
      }
    },
    {
      "cell_type": "markdown",
      "source": [
        "# **Conclusion**"
      ],
      "metadata": {
        "id": "gCX9965dhzqZ"
      }
    },
    {
      "cell_type": "markdown",
      "source": [
        "Write the conclusion here."
      ],
      "metadata": {
        "id": "Fjb1IsQkh3yE"
      }
    },
    {
      "cell_type": "markdown",
      "source": [
        "### ***Hurrah! You have successfully completed your Machine Learning Capstone Project !!!***"
      ],
      "metadata": {
        "id": "gIfDvo9L0UH2"
      }
    }
  ]
}